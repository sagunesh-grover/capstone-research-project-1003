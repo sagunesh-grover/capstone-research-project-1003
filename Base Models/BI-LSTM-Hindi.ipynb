{
 "cells": [
  {
   "cell_type": "code",
   "execution_count": 1,
   "metadata": {},
   "outputs": [
    {
     "name": "stderr",
     "output_type": "stream",
     "text": [
      "Using TensorFlow backend.\n"
     ]
    }
   ],
   "source": [
    "import numpy as np\n",
    "import seaborn as sns\n",
    "import matplotlib.pyplot as plt\n",
    "%matplotlib inline\n",
    "import pandas as pd\n",
    "from keras.preprocessing.sequence import pad_sequences"
   ]
  },
  {
   "cell_type": "code",
   "execution_count": 2,
   "metadata": {},
   "outputs": [
    {
     "data": {
      "text/html": [
       "<div>\n",
       "<style scoped>\n",
       "    .dataframe tbody tr th:only-of-type {\n",
       "        vertical-align: middle;\n",
       "    }\n",
       "\n",
       "    .dataframe tbody tr th {\n",
       "        vertical-align: top;\n",
       "    }\n",
       "\n",
       "    .dataframe thead th {\n",
       "        text-align: right;\n",
       "    }\n",
       "</style>\n",
       "<table border=\"1\" class=\"dataframe\">\n",
       "  <thead>\n",
       "    <tr style=\"text-align: right;\">\n",
       "      <th></th>\n",
       "      <th>sent_index</th>\n",
       "      <th>word</th>\n",
       "      <th>tag</th>\n",
       "    </tr>\n",
       "  </thead>\n",
       "  <tbody>\n",
       "    <tr>\n",
       "      <th>0</th>\n",
       "      <td>0</td>\n",
       "      <td>जापान</td>\n",
       "      <td>B-LOC</td>\n",
       "    </tr>\n",
       "    <tr>\n",
       "      <th>1</th>\n",
       "      <td>0</td>\n",
       "      <td>एशिया</td>\n",
       "      <td>B-LOC</td>\n",
       "    </tr>\n",
       "    <tr>\n",
       "      <th>2</th>\n",
       "      <td>0</td>\n",
       "      <td>महाद्वीप</td>\n",
       "      <td>I-LOC</td>\n",
       "    </tr>\n",
       "    <tr>\n",
       "      <th>3</th>\n",
       "      <td>0</td>\n",
       "      <td>में</td>\n",
       "      <td>O</td>\n",
       "    </tr>\n",
       "    <tr>\n",
       "      <th>4</th>\n",
       "      <td>0</td>\n",
       "      <td>स्थित</td>\n",
       "      <td>O</td>\n",
       "    </tr>\n",
       "    <tr>\n",
       "      <th>5</th>\n",
       "      <td>0</td>\n",
       "      <td>देश</td>\n",
       "      <td>O</td>\n",
       "    </tr>\n",
       "    <tr>\n",
       "      <th>6</th>\n",
       "      <td>0</td>\n",
       "      <td>है</td>\n",
       "      <td>O</td>\n",
       "    </tr>\n",
       "    <tr>\n",
       "      <th>7</th>\n",
       "      <td>0</td>\n",
       "      <td>।</td>\n",
       "      <td>O</td>\n",
       "    </tr>\n",
       "    <tr>\n",
       "      <th>8</th>\n",
       "      <td>1</td>\n",
       "      <td>पाकिस्तान</td>\n",
       "      <td>I-LOC</td>\n",
       "    </tr>\n",
       "    <tr>\n",
       "      <th>9</th>\n",
       "      <td>1</td>\n",
       "      <td>की</td>\n",
       "      <td>I-ORG</td>\n",
       "    </tr>\n",
       "    <tr>\n",
       "      <th>10</th>\n",
       "      <td>1</td>\n",
       "      <td>सर्वोच्च</td>\n",
       "      <td>O</td>\n",
       "    </tr>\n",
       "    <tr>\n",
       "      <th>11</th>\n",
       "      <td>1</td>\n",
       "      <td>न्यायिक</td>\n",
       "      <td>I-ORG</td>\n",
       "    </tr>\n",
       "    <tr>\n",
       "      <th>12</th>\n",
       "      <td>1</td>\n",
       "      <td>परिषद</td>\n",
       "      <td>I-ORG</td>\n",
       "    </tr>\n",
       "    <tr>\n",
       "      <th>13</th>\n",
       "      <td>1</td>\n",
       "      <td>पाकिस्तान</td>\n",
       "      <td>I-LOC</td>\n",
       "    </tr>\n",
       "    <tr>\n",
       "      <th>14</th>\n",
       "      <td>1</td>\n",
       "      <td>की</td>\n",
       "      <td>I-ORG</td>\n",
       "    </tr>\n",
       "    <tr>\n",
       "      <th>15</th>\n",
       "      <td>1</td>\n",
       "      <td>न्यायपालिका</td>\n",
       "      <td>O</td>\n",
       "    </tr>\n",
       "    <tr>\n",
       "      <th>16</th>\n",
       "      <td>1</td>\n",
       "      <td>की</td>\n",
       "      <td>I-ORG</td>\n",
       "    </tr>\n",
       "    <tr>\n",
       "      <th>17</th>\n",
       "      <td>1</td>\n",
       "      <td>एक</td>\n",
       "      <td>O</td>\n",
       "    </tr>\n",
       "    <tr>\n",
       "      <th>18</th>\n",
       "      <td>1</td>\n",
       "      <td>महत्वपूर्ण</td>\n",
       "      <td>O</td>\n",
       "    </tr>\n",
       "    <tr>\n",
       "      <th>19</th>\n",
       "      <td>1</td>\n",
       "      <td>निकाय</td>\n",
       "      <td>I-ORG</td>\n",
       "    </tr>\n",
       "  </tbody>\n",
       "</table>\n",
       "</div>"
      ],
      "text/plain": [
       "    sent_index         word    tag\n",
       "0            0        जापान  B-LOC\n",
       "1            0        एशिया  B-LOC\n",
       "2            0     महाद्वीप  I-LOC\n",
       "3            0          में      O\n",
       "4            0        स्थित      O\n",
       "5            0          देश      O\n",
       "6            0           है      O\n",
       "7            0            ।      O\n",
       "8            1    पाकिस्तान  I-LOC\n",
       "9            1           की  I-ORG\n",
       "10           1     सर्वोच्च      O\n",
       "11           1      न्यायिक  I-ORG\n",
       "12           1        परिषद  I-ORG\n",
       "13           1    पाकिस्तान  I-LOC\n",
       "14           1           की  I-ORG\n",
       "15           1  न्यायपालिका      O\n",
       "16           1           की  I-ORG\n",
       "17           1           एक      O\n",
       "18           1   महत्वपूर्ण      O\n",
       "19           1        निकाय  I-ORG"
      ]
     },
     "execution_count": 2,
     "metadata": {},
     "output_type": "execute_result"
    }
   ],
   "source": [
    "df = pd.read_excel (r'hindi_modelDataset.xlsx', sheet_name='Sheet1')\n",
    "df.head(20)"
   ]
  },
  {
   "cell_type": "code",
   "execution_count": 3,
   "metadata": {},
   "outputs": [],
   "source": [
    "class SentenceGetter(object):\n",
    "    \n",
    "    def __init__(self, dataset):\n",
    "        self.n_sent = 1\n",
    "        self.dataset = dataset\n",
    "        self.empty = False\n",
    "        agg_func = lambda s: [(w, t) for w,t in zip(s[\"word\"].values.tolist(),\n",
    "                                                        s[\"tag\"].values.tolist())]\n",
    "        self.grouped = self.dataset.groupby(\"sent_index\").apply(agg_func)\n",
    "        self.sentences = [s for s in self.grouped]"
   ]
  },
  {
   "cell_type": "code",
   "execution_count": 4,
   "metadata": {},
   "outputs": [],
   "source": [
    "getter = SentenceGetter(df)"
   ]
  },
  {
   "cell_type": "code",
   "execution_count": 5,
   "metadata": {},
   "outputs": [],
   "source": [
    "sentences = getter.sentences"
   ]
  },
  {
   "cell_type": "code",
   "execution_count": 6,
   "metadata": {},
   "outputs": [
    {
     "name": "stdout",
     "output_type": "stream",
     "text": [
      "[('हिमाचल', 'B-LOC'), ('प्रदेश', 'I-ORG'), ('उत्तर', 'B-LOC'), ('पश्चिमी', 'B-LOC'), ('भारत', 'B-LOC'), ('में', 'O'), ('स्थित', 'O'), ('एक', 'O'), ('राज्य', 'I-LOC'), ('है', 'O'), ('।', 'O')]\n"
     ]
    }
   ],
   "source": [
    "print(sentences[10])"
   ]
  },
  {
   "cell_type": "code",
   "execution_count": 7,
   "metadata": {},
   "outputs": [
    {
     "name": "stdout",
     "output_type": "stream",
     "text": [
      "Maximum sequence length: 367\n"
     ]
    }
   ],
   "source": [
    "maxlen = max([len(s) for s in sentences])\n",
    "print ('Maximum sequence length:', maxlen)"
   ]
  },
  {
   "cell_type": "code",
   "execution_count": 8,
   "metadata": {},
   "outputs": [
    {
     "data": {
      "image/png": "[encoded data removed]",
      "text/plain": [
       "<Figure size 432x288 with 1 Axes>"
      ]
     },
     "metadata": {
      "needs_background": "light"
     },
     "output_type": "display_data"
    }
   ],
   "source": [
    "plt.hist([len(s) for s in sentences], bins=50)\n",
    "plt.show()"
   ]
  },
  {
   "cell_type": "code",
   "execution_count": 9,
   "metadata": {},
   "outputs": [
    {
     "data": {
      "text/plain": [
       "17735"
      ]
     },
     "execution_count": 9,
     "metadata": {},
     "output_type": "execute_result"
    }
   ],
   "source": [
    "words = list(set(df[\"word\"].values))\n",
    "words.append(\"end_padding\")\n",
    "n_words = len(words)\n",
    "n_words"
   ]
  },
  {
   "cell_type": "code",
   "execution_count": 10,
   "metadata": {},
   "outputs": [
    {
     "data": {
      "text/plain": [
       "7"
      ]
     },
     "execution_count": 10,
     "metadata": {},
     "output_type": "execute_result"
    }
   ],
   "source": [
    "tags = list(set(df[\"tag\"].values))\n",
    "n_tags = len(tags)\n",
    "n_tags"
   ]
  },
  {
   "cell_type": "markdown",
   "metadata": {},
   "source": [
    "# Feature Generation"
   ]
  },
  {
   "cell_type": "code",
   "execution_count": 11,
   "metadata": {},
   "outputs": [],
   "source": [
    "word2idx = {w: i for i, w in enumerate(words)}\n",
    "tag2idx = {t: i for i, t in enumerate(tags)}"
   ]
  },
  {
   "cell_type": "code",
   "execution_count": 12,
   "metadata": {},
   "outputs": [
    {
     "name": "stdout",
     "output_type": "stream",
     "text": [
      "<class 'dict'>\n"
     ]
    }
   ],
   "source": [
    "print(type(word2idx))"
   ]
  },
  {
   "cell_type": "code",
   "execution_count": 13,
   "metadata": {},
   "outputs": [
    {
     "name": "stdout",
     "output_type": "stream",
     "text": [
      "[('इगा', 0), ('डगलस', 1), ('दूतावास', 2), ('१२वीं', 3), ('शीतयुद्ध', 4)]\n"
     ]
    }
   ],
   "source": [
    "dict_items = word2idx.items()\n",
    "first_5 = list(dict_items)[:5]\n",
    "print(first_5)"
   ]
  },
  {
   "cell_type": "code",
   "execution_count": 14,
   "metadata": {},
   "outputs": [],
   "source": [
    "\n",
    "X = [[word2idx[w[0]] for w in s] for s in sentences]"
   ]
  },
  {
   "cell_type": "code",
   "execution_count": 15,
   "metadata": {},
   "outputs": [],
   "source": [
    "X = pad_sequences(maxlen=150, sequences=X, padding=\"post\",value=n_words - 1)"
   ]
  },
  {
   "cell_type": "code",
   "execution_count": 16,
   "metadata": {},
   "outputs": [],
   "source": [
    "y = [[tag2idx[w[1]] for w in s] for s in sentences]\n",
    "y = pad_sequences(maxlen=150, sequences=y, padding=\"post\", value=tag2idx[\"O\"])"
   ]
  },
  {
   "cell_type": "code",
   "execution_count": 17,
   "metadata": {},
   "outputs": [],
   "source": [
    "from keras.utils import to_categorical\n",
    "y = [to_categorical(i, num_classes=n_tags) for i in y]"
   ]
  },
  {
   "cell_type": "code",
   "execution_count": 18,
   "metadata": {},
   "outputs": [],
   "source": [
    "from sklearn.model_selection import train_test_split\n",
    "X_train, X_test, y_train, y_test = train_test_split(X, y, test_size=0.2)"
   ]
  },
  {
   "cell_type": "code",
   "execution_count": 19,
   "metadata": {},
   "outputs": [],
   "source": [
    "from keras.models import Model, Input\n",
    "from keras.layers import LSTM, Embedding, Dense, TimeDistributed, Dropout, Bidirectional"
   ]
  },
  {
   "cell_type": "code",
   "execution_count": 20,
   "metadata": {},
   "outputs": [],
   "source": [
    "input = Input(shape=(150,))\n",
    "model = Embedding(input_dim=n_words, output_dim=150, input_length=150)(input)\n",
    "model = Dropout(0.1)(model)\n",
    "model = Bidirectional(LSTM(units=150, return_sequences=True, recurrent_dropout=0.1))(model)\n",
    "out = TimeDistributed(Dense(n_tags, activation=\"softmax\"))(model)"
   ]
  },
  {
   "cell_type": "code",
   "execution_count": 21,
   "metadata": {},
   "outputs": [],
   "source": [
    "model = Model(input, out)\n",
    "model.compile(optimizer=\"adam\", loss=\"categorical_crossentropy\", metrics=[\"accuracy\"])"
   ]
  },
  {
   "cell_type": "code",
   "execution_count": 22,
   "metadata": {},
   "outputs": [
    {
     "name": "stderr",
     "output_type": "stream",
     "text": [
      "C:\\Users\\rosha\\AppData\\Roaming\\Python\\Python37\\site-packages\\tensorflow_core\\python\\framework\\indexed_slices.py:433: UserWarning: Converting sparse IndexedSlices to a dense Tensor of unknown shape. This may consume a large amount of memory.\n",
      "  \"Converting sparse IndexedSlices to a dense Tensor of unknown shape. \"\n"
     ]
    },
    {
     "name": "stdout",
     "output_type": "stream",
     "text": [
      "Train on 6988 samples, validate on 1747 samples\n",
      "Epoch 1/10\n",
      "6988/6988 [==============================] - 234s 33ms/step - loss: 0.1599 - accuracy: 0.9614 - val_loss: 0.0756 - val_accuracy: 0.9766\n",
      "Epoch 2/10\n",
      "6988/6988 [==============================] - 238s 34ms/step - loss: 0.0414 - accuracy: 0.9877 - val_loss: 0.0218 - val_accuracy: 0.9948\n",
      "Epoch 3/10\n",
      "6988/6988 [==============================] - 236s 34ms/step - loss: 0.0096 - accuracy: 0.9984 - val_loss: 0.0099 - val_accuracy: 0.9980\n",
      "Epoch 4/10\n",
      "6988/6988 [==============================] - 240s 34ms/step - loss: 0.0024 - accuracy: 0.9999 - val_loss: 0.0072 - val_accuracy: 0.9981\n",
      "Epoch 5/10\n",
      "6988/6988 [==============================] - 217s 31ms/step - loss: 7.7745e-04 - accuracy: 1.0000 - val_loss: 0.0069 - val_accuracy: 0.9981\n",
      "Epoch 6/10\n",
      "6988/6988 [==============================] - 236s 34ms/step - loss: 3.5387e-04 - accuracy: 1.0000 - val_loss: 0.0064 - val_accuracy: 0.9982\n",
      "Epoch 7/10\n",
      "6988/6988 [==============================] - 239s 34ms/step - loss: 2.0559e-04 - accuracy: 1.0000 - val_loss: 0.0064 - val_accuracy: 0.9983\n",
      "Epoch 8/10\n",
      "6988/6988 [==============================] - 237s 34ms/step - loss: 1.3397e-04 - accuracy: 1.0000 - val_loss: 0.0064 - val_accuracy: 0.9982\n",
      "Epoch 9/10\n",
      "6988/6988 [==============================] - 239s 34ms/step - loss: 9.4981e-05 - accuracy: 1.0000 - val_loss: 0.0064 - val_accuracy: 0.9983\n",
      "Epoch 10/10\n",
      "6988/6988 [==============================] - 246s 35ms/step - loss: 7.0038e-05 - accuracy: 1.0000 - val_loss: 0.0064 - val_accuracy: 0.9983\n"
     ]
    }
   ],
   "source": [
    "history = model.fit(X_train, np.array(y_train), batch_size=32, epochs=10, validation_split=0.2, verbose=1)"
   ]
  },
  {
   "cell_type": "code",
   "execution_count": 23,
   "metadata": {},
   "outputs": [
    {
     "name": "stdout",
     "output_type": "stream",
     "text": [
      "Word           (True ): Pred\n",
      "भजन            : B-PER\n",
      "लाल            : B-LOC\n",
      "तीन            : O\n",
      "बार            : O\n",
      "हरियाणा        : B-LOC\n",
      "के             : I-PER\n",
      "मुख्यमंत्री    : I-ORG\n",
      "रहे            : O\n",
      "।              : O\n",
      "end_padding    : O\n",
      "end_padding    : O\n",
      "end_padding    : O\n",
      "end_padding    : O\n",
      "end_padding    : O\n",
      "end_padding    : O\n",
      "end_padding    : O\n",
      "end_padding    : O\n",
      "end_padding    : O\n",
      "end_padding    : O\n",
      "end_padding    : O\n",
      "end_padding    : O\n",
      "end_padding    : O\n",
      "end_padding    : O\n",
      "end_padding    : O\n",
      "end_padding    : O\n",
      "end_padding    : O\n",
      "end_padding    : O\n",
      "end_padding    : O\n",
      "end_padding    : O\n",
      "end_padding    : O\n",
      "end_padding    : O\n",
      "end_padding    : O\n",
      "end_padding    : O\n",
      "end_padding    : O\n",
      "end_padding    : O\n",
      "end_padding    : O\n",
      "end_padding    : O\n",
      "end_padding    : O\n",
      "end_padding    : O\n",
      "end_padding    : O\n",
      "end_padding    : O\n",
      "end_padding    : O\n",
      "end_padding    : O\n",
      "end_padding    : O\n",
      "end_padding    : O\n",
      "end_padding    : O\n",
      "end_padding    : O\n",
      "end_padding    : O\n",
      "end_padding    : O\n",
      "end_padding    : O\n",
      "end_padding    : O\n",
      "end_padding    : O\n",
      "end_padding    : O\n",
      "end_padding    : O\n",
      "end_padding    : O\n",
      "end_padding    : O\n",
      "end_padding    : O\n",
      "end_padding    : O\n",
      "end_padding    : O\n",
      "end_padding    : O\n",
      "end_padding    : O\n",
      "end_padding    : O\n",
      "end_padding    : O\n",
      "end_padding    : O\n",
      "end_padding    : O\n",
      "end_padding    : O\n",
      "end_padding    : O\n",
      "end_padding    : O\n",
      "end_padding    : O\n",
      "end_padding    : O\n",
      "end_padding    : O\n",
      "end_padding    : O\n",
      "end_padding    : O\n",
      "end_padding    : O\n",
      "end_padding    : O\n",
      "end_padding    : O\n",
      "end_padding    : O\n",
      "end_padding    : O\n",
      "end_padding    : O\n",
      "end_padding    : O\n",
      "end_padding    : O\n",
      "end_padding    : O\n",
      "end_padding    : O\n",
      "end_padding    : O\n",
      "end_padding    : O\n",
      "end_padding    : O\n",
      "end_padding    : O\n",
      "end_padding    : O\n",
      "end_padding    : O\n",
      "end_padding    : O\n",
      "end_padding    : O\n",
      "end_padding    : O\n",
      "end_padding    : O\n",
      "end_padding    : O\n",
      "end_padding    : O\n",
      "end_padding    : O\n",
      "end_padding    : O\n",
      "end_padding    : O\n",
      "end_padding    : O\n",
      "end_padding    : O\n",
      "end_padding    : O\n",
      "end_padding    : O\n",
      "end_padding    : O\n",
      "end_padding    : O\n",
      "end_padding    : O\n",
      "end_padding    : O\n",
      "end_padding    : O\n",
      "end_padding    : O\n",
      "end_padding    : O\n",
      "end_padding    : O\n",
      "end_padding    : O\n",
      "end_padding    : O\n",
      "end_padding    : O\n",
      "end_padding    : O\n",
      "end_padding    : O\n",
      "end_padding    : O\n",
      "end_padding    : O\n",
      "end_padding    : O\n",
      "end_padding    : O\n",
      "end_padding    : O\n",
      "end_padding    : O\n",
      "end_padding    : O\n",
      "end_padding    : O\n",
      "end_padding    : O\n",
      "end_padding    : O\n",
      "end_padding    : O\n",
      "end_padding    : O\n",
      "end_padding    : O\n",
      "end_padding    : O\n",
      "end_padding    : O\n",
      "end_padding    : O\n",
      "end_padding    : O\n",
      "end_padding    : O\n",
      "end_padding    : O\n",
      "end_padding    : O\n",
      "end_padding    : O\n",
      "end_padding    : O\n",
      "end_padding    : O\n",
      "end_padding    : O\n",
      "end_padding    : O\n",
      "end_padding    : O\n",
      "end_padding    : O\n",
      "end_padding    : O\n",
      "end_padding    : O\n",
      "end_padding    : O\n",
      "end_padding    : O\n",
      "end_padding    : O\n",
      "end_padding    : O\n",
      "end_padding    : O\n",
      "end_padding    : O\n"
     ]
    }
   ],
   "source": [
    "i = 2\n",
    "p = model.predict(np.array([X_test[i]]))\n",
    "p = np.argmax(p, axis=-1)\n",
    "print(\"{:14} ({:5}): {}\".format(\"Word\", \"True\", \"Pred\"))\n",
    "for w,pred in zip(X_test[i],p[0]):\n",
    "    print(\"{:15}: {}\".format(words[w],tags[pred]))"
   ]
  },
  {
   "cell_type": "code",
   "execution_count": 24,
   "metadata": {},
   "outputs": [],
   "source": [
    "pred = []\n",
    "for i in range(len(y_test)):\n",
    "    p = model.predict(np.array([X_test[i]]))\n",
    "    p = np.argmax(p, axis=-1)\n",
    "    pred.append(p)"
   ]
  },
  {
   "cell_type": "code",
   "execution_count": 25,
   "metadata": {},
   "outputs": [],
   "source": [
    "pred_temp = [x[0] for x in pred]"
   ]
  },
  {
   "cell_type": "code",
   "execution_count": 26,
   "metadata": {},
   "outputs": [],
   "source": [
    "y_temp = []"
   ]
  },
  {
   "cell_type": "code",
   "execution_count": 27,
   "metadata": {},
   "outputs": [],
   "source": [
    "for i in range(len(y_test)):\n",
    "    y_temp.append(np.array([np.where(y_test[i][j]==1)[0][0] for j in range(len(y_test[i]))]))"
   ]
  },
  {
   "cell_type": "code",
   "execution_count": 28,
   "metadata": {},
   "outputs": [],
   "source": [
    "actual = y_temp[0]\n",
    "for i in range(1, len(y_temp)):\n",
    "    actual = np.concatenate((actual, y_temp[i]), axis=None)"
   ]
  },
  {
   "cell_type": "code",
   "execution_count": 29,
   "metadata": {},
   "outputs": [],
   "source": [
    "predicted = pred_temp[0]\n",
    "for i in range(1, len(pred_temp)):\n",
    "    predicted = np.concatenate((predicted, pred_temp[i]), axis=None)"
   ]
  },
  {
   "cell_type": "code",
   "execution_count": 30,
   "metadata": {},
   "outputs": [],
   "source": [
    "import scikitplot as skplt\n",
    "from sklearn.metrics import classification_report"
   ]
  },
  {
   "cell_type": "code",
   "execution_count": 31,
   "metadata": {},
   "outputs": [
    {
     "name": "stdout",
     "output_type": "stream",
     "text": [
      "              precision    recall  f1-score   support\n",
      "\n",
      "       B-PER       0.93      0.90      0.92       935\n",
      "       B-LOC       1.00      0.96      0.98      1857\n",
      "           O       1.00      1.00      1.00    314472\n",
      "       I-PER       1.00      0.96      0.98      3266\n",
      "       I-LOC       1.00      0.98      0.99      1393\n",
      "       B-ORG       0.99      0.94      0.96      1330\n",
      "       I-ORG       1.00      0.98      0.99      4347\n",
      "\n",
      "    accuracy                           1.00    327600\n",
      "   macro avg       0.99      0.96      0.97    327600\n",
      "weighted avg       1.00      1.00      1.00    327600\n",
      "\n"
     ]
    },
    {
     "data": {
      "image/png": "[encoded data removed]",
      "text/plain": [
       "<Figure size 432x288 with 2 Axes>"
      ]
     },
     "metadata": {
      "needs_background": "light"
     },
     "output_type": "display_data"
    }
   ],
   "source": [
    "skplt.metrics.plot_confusion_matrix(actual, predicted)\n",
    "print(classification_report(actual, predicted, target_names=tags))"
   ]
  },
  {
   "cell_type": "code",
   "execution_count": null,
   "metadata": {},
   "outputs": [],
   "source": []
  }
 ],
 "metadata": {
  "kernelspec": {
   "display_name": "Python 3",
   "language": "python",
   "name": "python3"
  },
  "language_info": {
   "codemirror_mode": {
    "name": "ipython",
    "version": 3
   },
   "file_extension": ".py",
   "mimetype": "text/x-python",
   "name": "python",
   "nbconvert_exporter": "python",
   "pygments_lexer": "ipython3",
   "version": "3.8.5"
  }
 },
 "nbformat": 4,
 "nbformat_minor": 4
}
