{
 "cells": [
  {
   "cell_type": "code",
   "execution_count": 1,
   "metadata": {},
   "outputs": [],
   "source": [
    "import numpy as np\n",
    "import seaborn as sns\n",
    "import matplotlib.pyplot as plt\n",
    "%matplotlib inline\n",
    "import pandas as pd"
   ]
  },
  {
   "cell_type": "code",
   "execution_count": 2,
   "metadata": {},
   "outputs": [
    {
     "name": "stdout",
     "output_type": "stream",
     "text": [
      "   sent_index        word    tag\n",
      "0           0      ભારતીય  B-LOC\n",
      "1           0     ગણરાજ્ય      O\n",
      "2           0           એ      O\n",
      "3           0        અનેક      O\n",
      "4           0  સાંસ્કૃતિક      O\n"
     ]
    }
   ],
   "source": [
    "df = pd.read_excel (r'gujrati_modelDataset.xlsx', sheet_name='Sheet1')\n",
    "print(df.head())"
   ]
  },
  {
   "cell_type": "code",
   "execution_count": 3,
   "metadata": {},
   "outputs": [
    {
     "data": {
      "text/plain": [
       "48031"
      ]
     },
     "execution_count": 3,
     "metadata": {},
     "output_type": "execute_result"
    }
   ],
   "source": [
    "len(df)"
   ]
  },
  {
   "cell_type": "code",
   "execution_count": 4,
   "metadata": {},
   "outputs": [
    {
     "data": {
      "text/html": [
       "<div>\n",
       "<style scoped>\n",
       "    .dataframe tbody tr th:only-of-type {\n",
       "        vertical-align: middle;\n",
       "    }\n",
       "\n",
       "    .dataframe tbody tr th {\n",
       "        vertical-align: top;\n",
       "    }\n",
       "\n",
       "    .dataframe thead th {\n",
       "        text-align: right;\n",
       "    }\n",
       "</style>\n",
       "<table border=\"1\" class=\"dataframe\">\n",
       "  <thead>\n",
       "    <tr style=\"text-align: right;\">\n",
       "      <th></th>\n",
       "      <th>sent_index</th>\n",
       "      <th>word</th>\n",
       "      <th>tag</th>\n",
       "    </tr>\n",
       "  </thead>\n",
       "  <tbody>\n",
       "    <tr>\n",
       "      <th>231</th>\n",
       "      <td>17</td>\n",
       "      <td>Error404</td>\n",
       "      <td>O</td>\n",
       "    </tr>\n",
       "    <tr>\n",
       "      <th>587</th>\n",
       "      <td>46</td>\n",
       "      <td>Punjabi</td>\n",
       "      <td>O</td>\n",
       "    </tr>\n",
       "    <tr>\n",
       "      <th>742</th>\n",
       "      <td>60</td>\n",
       "      <td>Error404</td>\n",
       "      <td>O</td>\n",
       "    </tr>\n",
       "    <tr>\n",
       "      <th>1002</th>\n",
       "      <td>83</td>\n",
       "      <td>Error404</td>\n",
       "      <td>O</td>\n",
       "    </tr>\n",
       "    <tr>\n",
       "      <th>1543</th>\n",
       "      <td>123</td>\n",
       "      <td>Error404</td>\n",
       "      <td>O</td>\n",
       "    </tr>\n",
       "    <tr>\n",
       "      <th>...</th>\n",
       "      <td>...</td>\n",
       "      <td>...</td>\n",
       "      <td>...</td>\n",
       "    </tr>\n",
       "    <tr>\n",
       "      <th>47735</th>\n",
       "      <td>3415</td>\n",
       "      <td>The</td>\n",
       "      <td>O</td>\n",
       "    </tr>\n",
       "    <tr>\n",
       "      <th>47745</th>\n",
       "      <td>3416</td>\n",
       "      <td>Error404</td>\n",
       "      <td>O</td>\n",
       "    </tr>\n",
       "    <tr>\n",
       "      <th>47790</th>\n",
       "      <td>3421</td>\n",
       "      <td>Eared</td>\n",
       "      <td>O</td>\n",
       "    </tr>\n",
       "    <tr>\n",
       "      <th>47791</th>\n",
       "      <td>3421</td>\n",
       "      <td>Grebe</td>\n",
       "      <td>O</td>\n",
       "    </tr>\n",
       "    <tr>\n",
       "      <th>48030</th>\n",
       "      <td>3439</td>\n",
       "      <td>Error404</td>\n",
       "      <td>O</td>\n",
       "    </tr>\n",
       "  </tbody>\n",
       "</table>\n",
       "<p>433 rows × 3 columns</p>\n",
       "</div>"
      ],
      "text/plain": [
       "       sent_index      word tag\n",
       "231            17  Error404   O\n",
       "587            46   Punjabi   O\n",
       "742            60  Error404   O\n",
       "1002           83  Error404   O\n",
       "1543          123  Error404   O\n",
       "...           ...       ...  ..\n",
       "47735        3415       The   O\n",
       "47745        3416  Error404   O\n",
       "47790        3421     Eared   O\n",
       "47791        3421     Grebe   O\n",
       "48030        3439  Error404   O\n",
       "\n",
       "[433 rows x 3 columns]"
      ]
     },
     "execution_count": 4,
     "metadata": {},
     "output_type": "execute_result"
    }
   ],
   "source": [
    "df[df['word'].str.match(r'[A-Za-z0-9]\\w+') == True]"
   ]
  },
  {
   "cell_type": "code",
   "execution_count": 5,
   "metadata": {},
   "outputs": [],
   "source": [
    "df.drop(df[df['word'].str.match(r'[A-Za-z0-9]\\w+') == True].index, inplace = True)"
   ]
  },
  {
   "cell_type": "code",
   "execution_count": 6,
   "metadata": {},
   "outputs": [
    {
     "data": {
      "text/plain": [
       "47598"
      ]
     },
     "execution_count": 6,
     "metadata": {},
     "output_type": "execute_result"
    }
   ],
   "source": [
    "len(df)"
   ]
  },
  {
   "cell_type": "code",
   "execution_count": 7,
   "metadata": {},
   "outputs": [],
   "source": [
    "class SentenceGetter(object):\n",
    "    \n",
    "    def __init__(self, dataset):\n",
    "        self.n_sent = 1\n",
    "        self.dataset = dataset\n",
    "        self.empty = False\n",
    "        agg_func = lambda s: [(w, t) for w,t in zip(s[\"word\"].values.tolist(),\n",
    "                                                        s[\"tag\"].values.tolist())]\n",
    "        self.grouped = self.dataset.groupby(\"sent_index\").apply(agg_func)\n",
    "        self.sentences = [s for s in self.grouped]"
   ]
  },
  {
   "cell_type": "code",
   "execution_count": 8,
   "metadata": {},
   "outputs": [],
   "source": [
    "getter = SentenceGetter(df)"
   ]
  },
  {
   "cell_type": "code",
   "execution_count": 9,
   "metadata": {},
   "outputs": [],
   "source": [
    "sentences = getter.sentences"
   ]
  },
  {
   "cell_type": "code",
   "execution_count": 10,
   "metadata": {},
   "outputs": [
    {
     "name": "stdout",
     "output_type": "stream",
     "text": [
      "[('બદ્રીનાથ', 'B-LOC'), ('ભારત', 'B-LOC'), ('દેશની', 'O'), ('ઉત્તર', 'B-LOC'), ('દિશામાં', 'O'), ('આવેલા', 'O'), ('હિમાલય', 'B-LOC'), ('પર્વતમાળામાં', 'I-LOC'), ('આવેલા', 'O'), ('ઉત્તરાંચલ', 'O'), ('રાજ્યમાં', 'I-LOC'), ('આવેલું', 'O'), ('હિંદુ', 'B-ORG'), ('ધર્મના', 'O'), ('લોકોનું', 'O'), ('મહત્વનું', 'O'), ('તીર્થસ્થળ', 'O'), ('છે', 'O')]\n"
     ]
    }
   ],
   "source": [
    "print(sentences[10])"
   ]
  },
  {
   "cell_type": "code",
   "execution_count": 11,
   "metadata": {},
   "outputs": [
    {
     "name": "stdout",
     "output_type": "stream",
     "text": [
      "Maximum sequence length: 55\n"
     ]
    }
   ],
   "source": [
    "maxlen = max([len(s) for s in sentences])\n",
    "print ('Maximum sequence length:', maxlen)"
   ]
  },
  {
   "cell_type": "code",
   "execution_count": 12,
   "metadata": {},
   "outputs": [
    {
     "data": {
      "image/png": "[encoded data removed]",
      "text/plain": [
       "<Figure size 432x288 with 1 Axes>"
      ]
     },
     "metadata": {
      "needs_background": "light"
     },
     "output_type": "display_data"
    }
   ],
   "source": [
    "plt.hist([len(s) for s in sentences], bins=50)\n",
    "plt.show()"
   ]
  },
  {
   "cell_type": "code",
   "execution_count": 13,
   "metadata": {},
   "outputs": [
    {
     "data": {
      "text/plain": [
       "6417"
      ]
     },
     "execution_count": 13,
     "metadata": {},
     "output_type": "execute_result"
    }
   ],
   "source": [
    "words = list(set(df[\"word\"].values))\n",
    "words.append(\"end_padding\")\n",
    "n_words = len(words)\n",
    "n_words"
   ]
  },
  {
   "cell_type": "code",
   "execution_count": 14,
   "metadata": {},
   "outputs": [
    {
     "data": {
      "text/plain": [
       "7"
      ]
     },
     "execution_count": 14,
     "metadata": {},
     "output_type": "execute_result"
    }
   ],
   "source": [
    "tags = list(set(df[\"tag\"].values))\n",
    "n_tags = len(tags)\n",
    "n_tags"
   ]
  },
  {
   "cell_type": "code",
   "execution_count": 15,
   "metadata": {},
   "outputs": [],
   "source": [
    "word2idx = {w: i for i, w in enumerate(words)}\n",
    "tag2idx = {t: i for i, t in enumerate(tags)}"
   ]
  },
  {
   "cell_type": "code",
   "execution_count": 16,
   "metadata": {},
   "outputs": [
    {
     "name": "stdout",
     "output_type": "stream",
     "text": [
      "<class 'dict'>\n"
     ]
    }
   ],
   "source": [
    "print(type(word2idx))"
   ]
  },
  {
   "cell_type": "code",
   "execution_count": 17,
   "metadata": {},
   "outputs": [
    {
     "name": "stdout",
     "output_type": "stream",
     "text": [
      "[('અરણ્ય', 0), ('કાકા', 1), ('અપનાવાયો', 2), ('સ્કોટલેન્ડમાં', 3), ('મેડીકલ', 4)]\n"
     ]
    }
   ],
   "source": [
    "dict_items = word2idx.items()\n",
    "first_5 = list(dict_items)[:5]\n",
    "print(first_5)"
   ]
  },
  {
   "cell_type": "code",
   "execution_count": 18,
   "metadata": {},
   "outputs": [
    {
     "name": "stderr",
     "output_type": "stream",
     "text": [
      "Using TensorFlow backend.\n"
     ]
    }
   ],
   "source": [
    "from keras.preprocessing.sequence import pad_sequences\n",
    "X = [[word2idx[w[0]] for w in s] for s in sentences]"
   ]
  },
  {
   "cell_type": "code",
   "execution_count": 19,
   "metadata": {},
   "outputs": [],
   "source": [
    "X = pad_sequences(maxlen=82, sequences=X, padding=\"post\",value=n_words - 1)"
   ]
  },
  {
   "cell_type": "code",
   "execution_count": 20,
   "metadata": {},
   "outputs": [],
   "source": [
    "y = [[tag2idx[w[1]] for w in s] for s in sentences]\n",
    "y = pad_sequences(maxlen=82, sequences=y, padding=\"post\", value=tag2idx[\"O\"])"
   ]
  },
  {
   "cell_type": "code",
   "execution_count": 21,
   "metadata": {},
   "outputs": [],
   "source": [
    "from keras.utils import to_categorical\n",
    "y = [to_categorical(i, num_classes=n_tags) for i in y]"
   ]
  },
  {
   "cell_type": "code",
   "execution_count": 22,
   "metadata": {},
   "outputs": [],
   "source": [
    "from sklearn.model_selection import train_test_split\n",
    "X_train, X_test, y_train, y_test = train_test_split(X, y, test_size=0.2)"
   ]
  },
  {
   "cell_type": "code",
   "execution_count": 23,
   "metadata": {},
   "outputs": [],
   "source": [
    "from keras.models import Model, Input\n",
    "from keras.layers import LSTM, Embedding, Dense, TimeDistributed, Dropout, Bidirectional"
   ]
  },
  {
   "cell_type": "code",
   "execution_count": 24,
   "metadata": {},
   "outputs": [],
   "source": [
    "input = Input(shape=(82,))\n",
    "model = Embedding(input_dim=n_words, output_dim=82, input_length=82)(input)\n",
    "model = Dropout(0.1)(model)\n",
    "model = Bidirectional(LSTM(units=100, return_sequences=True, recurrent_dropout=0.1))(model)\n",
    "out = TimeDistributed(Dense(n_tags, activation=\"softmax\"))(model)"
   ]
  },
  {
   "cell_type": "code",
   "execution_count": 25,
   "metadata": {},
   "outputs": [],
   "source": [
    "model = Model(input, out)\n",
    "model.compile(optimizer=\"adam\", loss=\"categorical_crossentropy\", metrics=[\"accuracy\"])"
   ]
  },
  {
   "cell_type": "code",
   "execution_count": 26,
   "metadata": {},
   "outputs": [
    {
     "name": "stderr",
     "output_type": "stream",
     "text": [
      "C:\\Users\\rosha\\AppData\\Roaming\\Python\\Python37\\site-packages\\tensorflow_core\\python\\framework\\indexed_slices.py:433: UserWarning: Converting sparse IndexedSlices to a dense Tensor of unknown shape. This may consume a large amount of memory.\n",
      "  \"Converting sparse IndexedSlices to a dense Tensor of unknown shape. \"\n"
     ]
    },
    {
     "name": "stdout",
     "output_type": "stream",
     "text": [
      "Train on 2115 samples, validate on 529 samples\n",
      "Epoch 1/10\n",
      "2115/2115 [==============================] - 10s 5ms/step - loss: 0.4124 - accuracy: 0.9339 - val_loss: 0.1698 - val_accuracy: 0.9466\n",
      "Epoch 2/10\n",
      "2115/2115 [==============================] - 9s 4ms/step - loss: 0.1536 - accuracy: 0.9484 - val_loss: 0.1415 - val_accuracy: 0.9500\n",
      "Epoch 3/10\n",
      "2115/2115 [==============================] - 10s 5ms/step - loss: 0.1135 - accuracy: 0.9626 - val_loss: 0.0929 - val_accuracy: 0.9748\n",
      "Epoch 4/10\n",
      "2115/2115 [==============================] - 9s 4ms/step - loss: 0.0704 - accuracy: 0.9816 - val_loss: 0.0597 - val_accuracy: 0.9836\n",
      "Epoch 5/10\n",
      "2115/2115 [==============================] - 10s 5ms/step - loss: 0.0449 - accuracy: 0.9871 - val_loss: 0.0431 - val_accuracy: 0.9864\n",
      "Epoch 6/10\n",
      "2115/2115 [==============================] - 9s 4ms/step - loss: 0.0317 - accuracy: 0.9894 - val_loss: 0.0343 - val_accuracy: 0.9892\n",
      "Epoch 7/10\n",
      "2115/2115 [==============================] - 9s 4ms/step - loss: 0.0234 - accuracy: 0.9935 - val_loss: 0.0281 - val_accuracy: 0.9927\n",
      "Epoch 8/10\n",
      "2115/2115 [==============================] - 9s 4ms/step - loss: 0.0175 - accuracy: 0.9965 - val_loss: 0.0237 - val_accuracy: 0.9953\n",
      "Epoch 9/10\n",
      "2115/2115 [==============================] - 10s 5ms/step - loss: 0.0127 - accuracy: 0.9982 - val_loss: 0.0200 - val_accuracy: 0.9966\n",
      "Epoch 10/10\n",
      "2115/2115 [==============================] - 9s 4ms/step - loss: 0.0092 - accuracy: 0.9991 - val_loss: 0.0171 - val_accuracy: 0.9968\n"
     ]
    }
   ],
   "source": [
    "history = model.fit(X_train, np.array(y_train), batch_size=32, epochs=10, validation_split=0.2, verbose=1)"
   ]
  },
  {
   "cell_type": "code",
   "execution_count": 27,
   "metadata": {},
   "outputs": [
    {
     "name": "stdout",
     "output_type": "stream",
     "text": [
      "Word           (True ): Pred\n",
      "રંગારેડ્ડી    : B-LOC\n",
      "જિલ્લો        : I-LOC\n",
      "ભારત          : B-LOC\n",
      "દેશના         : O\n",
      "તેલંગાણા      : B-LOC\n",
      "રાજ્યનો       : O\n",
      "મહત્વનો       : O\n",
      "જિલ્લો        : I-LOC\n",
      "છે            : O\n",
      "end_padding   : O\n",
      "end_padding   : O\n",
      "end_padding   : O\n",
      "end_padding   : O\n",
      "end_padding   : O\n",
      "end_padding   : O\n",
      "end_padding   : O\n",
      "end_padding   : O\n",
      "end_padding   : O\n",
      "end_padding   : O\n",
      "end_padding   : O\n",
      "end_padding   : O\n",
      "end_padding   : O\n",
      "end_padding   : O\n",
      "end_padding   : O\n",
      "end_padding   : O\n",
      "end_padding   : O\n",
      "end_padding   : O\n",
      "end_padding   : O\n",
      "end_padding   : O\n",
      "end_padding   : O\n",
      "end_padding   : O\n",
      "end_padding   : O\n",
      "end_padding   : O\n",
      "end_padding   : O\n",
      "end_padding   : O\n",
      "end_padding   : O\n",
      "end_padding   : O\n",
      "end_padding   : O\n",
      "end_padding   : O\n",
      "end_padding   : O\n",
      "end_padding   : O\n",
      "end_padding   : O\n",
      "end_padding   : O\n",
      "end_padding   : O\n",
      "end_padding   : O\n",
      "end_padding   : O\n",
      "end_padding   : O\n",
      "end_padding   : O\n",
      "end_padding   : O\n",
      "end_padding   : O\n",
      "end_padding   : O\n",
      "end_padding   : O\n",
      "end_padding   : O\n",
      "end_padding   : O\n",
      "end_padding   : O\n",
      "end_padding   : O\n",
      "end_padding   : O\n",
      "end_padding   : O\n",
      "end_padding   : O\n",
      "end_padding   : O\n",
      "end_padding   : O\n",
      "end_padding   : O\n",
      "end_padding   : O\n",
      "end_padding   : O\n",
      "end_padding   : O\n",
      "end_padding   : O\n",
      "end_padding   : O\n",
      "end_padding   : O\n",
      "end_padding   : O\n",
      "end_padding   : O\n",
      "end_padding   : O\n",
      "end_padding   : O\n",
      "end_padding   : O\n",
      "end_padding   : O\n",
      "end_padding   : O\n",
      "end_padding   : O\n",
      "end_padding   : O\n",
      "end_padding   : O\n",
      "end_padding   : O\n",
      "end_padding   : O\n",
      "end_padding   : O\n",
      "end_padding   : O\n"
     ]
    }
   ],
   "source": [
    "i = 0\n",
    "p = model.predict(np.array([X_test[i]]))\n",
    "p = np.argmax(p, axis=-1)\n",
    "print(\"{:14} ({:5}): {}\".format(\"Word\", \"True\", \"Pred\"))\n",
    "for w,pred in zip(X_test[i],p[0]):\n",
    "    print(\"{:14}: {}\".format(words[w],tags[pred]))"
   ]
  },
  {
   "cell_type": "code",
   "execution_count": 28,
   "metadata": {},
   "outputs": [],
   "source": [
    "pred = []\n",
    "for i in range(len(y_test)):\n",
    "    p = model.predict(np.array([X_test[i]]))\n",
    "    p = np.argmax(p, axis=-1)\n",
    "    pred.append(p)"
   ]
  },
  {
   "cell_type": "code",
   "execution_count": 29,
   "metadata": {},
   "outputs": [],
   "source": [
    "pred_temp = [x[0] for x in pred]"
   ]
  },
  {
   "cell_type": "code",
   "execution_count": 30,
   "metadata": {},
   "outputs": [],
   "source": [
    "y_temp = []"
   ]
  },
  {
   "cell_type": "code",
   "execution_count": 31,
   "metadata": {},
   "outputs": [],
   "source": [
    "for i in range(len(y_test)):\n",
    "    y_temp.append(np.array([np.where(y_test[i][j]==1)[0][0] for j in range(len(y_test[i]))]))"
   ]
  },
  {
   "cell_type": "code",
   "execution_count": 32,
   "metadata": {},
   "outputs": [],
   "source": [
    "actual = y_temp[0]\n",
    "for i in range(1, len(y_temp)):\n",
    "    actual = np.concatenate((actual, y_temp[i]), axis=None)"
   ]
  },
  {
   "cell_type": "code",
   "execution_count": 33,
   "metadata": {},
   "outputs": [],
   "source": [
    "predicted = pred_temp[0]\n",
    "for i in range(1, len(pred_temp)):\n",
    "    predicted = np.concatenate((predicted, pred_temp[i]), axis=None)"
   ]
  },
  {
   "cell_type": "code",
   "execution_count": 34,
   "metadata": {},
   "outputs": [
    {
     "name": "stdout",
     "output_type": "stream",
     "text": [
      "\n",
      "Confusion Matrix and Classification Report\n",
      "\n",
      " AxesSubplot(0.125,0.125;0.62x0.755)\n",
      "\n",
      "               precision    recall  f1-score   support\n",
      "\n",
      "       B-PER       0.82      0.75      0.78       138\n",
      "       B-LOC       0.97      0.94      0.95      1304\n",
      "       I-LOC       1.00      0.98      0.99       895\n",
      "       B-ORG       0.98      0.89      0.94       217\n",
      "       I-ORG       0.92      0.88      0.90       139\n",
      "           O       1.00      1.00      1.00     51450\n",
      "       I-PER       0.94      0.89      0.91       141\n",
      "\n",
      "    accuracy                           1.00     54284\n",
      "   macro avg       0.95      0.90      0.93     54284\n",
      "weighted avg       1.00      1.00      1.00     54284\n",
      "\n"
     ]
    },
    {
     "data": {
      "image/png": "[encoded data removed]",
      "text/plain": [
       "<Figure size 432x288 with 2 Axes>"
      ]
     },
     "metadata": {
      "needs_background": "light"
     },
     "output_type": "display_data"
    }
   ],
   "source": [
    "from sklearn.metrics import classification_report, confusion_matrix\n",
    "import scikitplot as skplt\n",
    "print('\\nConfusion Matrix and Classification Report')\n",
    "print('\\n', skplt.metrics.plot_confusion_matrix(actual, predicted))\n",
    "print('\\n', classification_report(actual, predicted, target_names=tags))"
   ]
  },
  {
   "cell_type": "code",
   "execution_count": null,
   "metadata": {},
   "outputs": [],
   "source": []
  }
 ],
 "metadata": {
  "kernelspec": {
   "display_name": "Python 3",
   "language": "python",
   "name": "python3"
  },
  "language_info": {
   "codemirror_mode": {
    "name": "ipython",
    "version": 3
   },
   "file_extension": ".py",
   "mimetype": "text/x-python",
   "name": "python",
   "nbconvert_exporter": "python",
   "pygments_lexer": "ipython3",
   "version": "3.8.5"
  }
 },
 "nbformat": 4,
 "nbformat_minor": 4
}
