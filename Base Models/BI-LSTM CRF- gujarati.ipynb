{
 "cells": [
  {
   "cell_type": "code",
   "execution_count": null,
   "metadata": {},
   "outputs": [],
   "source": [
    "import pandas as pd\n",
    "import numpy as np\n",
    "import re\n",
    "import string\n",
    "from keras.preprocessing.sequence import pad_sequences\n",
    "import tensorflow as tf\n",
    "import keras"
   ]
  },
  {
   "cell_type": "code",
   "execution_count": 2,
   "metadata": {},
   "outputs": [],
   "source": [
    "# Hyperparams if GPU is available\n",
    "if tf.test.is_gpu_available():\n",
    "    BATCH_SIZE = 512  # Number of examples used in each iteration\n",
    "    EPOCHS = 5  # Number of passes through entire dataset\n",
    "    #MAX_LEN = 75  # Max length of review (in words)\n",
    "    EMBEDDING = 40  # Dimension of word embedding vector\n",
    "# Hyperparams for CPU training\n",
    "else:\n",
    "    BATCH_SIZE = 32\n",
    "    EPOCHS = 5\n",
    "    #MAX_LEN = 75\n",
    "    EMBEDDING = 20"
   ]
  },
  {
   "cell_type": "code",
   "execution_count": 3,
   "metadata": {},
   "outputs": [
    {
     "data": {
      "text/html": [
       "<div>\n",
       "<style scoped>\n",
       "    .dataframe tbody tr th:only-of-type {\n",
       "        vertical-align: middle;\n",
       "    }\n",
       "\n",
       "    .dataframe tbody tr th {\n",
       "        vertical-align: top;\n",
       "    }\n",
       "\n",
       "    .dataframe thead th {\n",
       "        text-align: right;\n",
       "    }\n",
       "</style>\n",
       "<table border=\"1\" class=\"dataframe\">\n",
       "  <thead>\n",
       "    <tr style=\"text-align: right;\">\n",
       "      <th></th>\n",
       "      <th>sent_index</th>\n",
       "      <th>word</th>\n",
       "      <th>tag</th>\n",
       "    </tr>\n",
       "  </thead>\n",
       "  <tbody>\n",
       "    <tr>\n",
       "      <th>0</th>\n",
       "      <td>0</td>\n",
       "      <td>ભારતીય</td>\n",
       "      <td>B-LOC</td>\n",
       "    </tr>\n",
       "    <tr>\n",
       "      <th>1</th>\n",
       "      <td>0</td>\n",
       "      <td>ગણરાજ્ય</td>\n",
       "      <td>O</td>\n",
       "    </tr>\n",
       "    <tr>\n",
       "      <th>2</th>\n",
       "      <td>0</td>\n",
       "      <td>એ</td>\n",
       "      <td>O</td>\n",
       "    </tr>\n",
       "    <tr>\n",
       "      <th>3</th>\n",
       "      <td>0</td>\n",
       "      <td>અનેક</td>\n",
       "      <td>O</td>\n",
       "    </tr>\n",
       "    <tr>\n",
       "      <th>4</th>\n",
       "      <td>0</td>\n",
       "      <td>સાંસ્કૃતિક</td>\n",
       "      <td>O</td>\n",
       "    </tr>\n",
       "  </tbody>\n",
       "</table>\n",
       "</div>"
      ],
      "text/plain": [
       "   sent_index        word    tag\n",
       "0           0      ભારતીય  B-LOC\n",
       "1           0     ગણરાજ્ય      O\n",
       "2           0           એ      O\n",
       "3           0        અનેક      O\n",
       "4           0  સાંસ્કૃતિક      O"
      ]
     },
     "execution_count": 3,
     "metadata": {},
     "output_type": "execute_result"
    }
   ],
   "source": [
    "df = pd.read_excel (r'gujrati_modelDataset.xlsx', sheet_name='Sheet1')\n",
    "df.head(5)"
   ]
  },
  {
   "cell_type": "code",
   "execution_count": 4,
   "metadata": {},
   "outputs": [],
   "source": [
    "data = df.copy()"
   ]
  },
  {
   "cell_type": "code",
   "execution_count": 5,
   "metadata": {},
   "outputs": [
    {
     "data": {
      "text/plain": [
       "6566"
      ]
     },
     "execution_count": 5,
     "metadata": {},
     "output_type": "execute_result"
    }
   ],
   "source": [
    "words = list(set(data[\"word\"].values))\n",
    "#words.append(\"ENDPAD\")\n",
    "n_words = len(words); \n",
    "n_words"
   ]
  },
  {
   "cell_type": "code",
   "execution_count": 6,
   "metadata": {},
   "outputs": [
    {
     "data": {
      "text/plain": [
       "7"
      ]
     },
     "execution_count": 6,
     "metadata": {},
     "output_type": "execute_result"
    }
   ],
   "source": [
    "tags = list(set(data[\"tag\"].values))\n",
    "n_tags = len(tags); n_tags"
   ]
  },
  {
   "cell_type": "code",
   "execution_count": 7,
   "metadata": {},
   "outputs": [],
   "source": [
    "class SentenceGetter(object):\n",
    "    \n",
    "    def __init__(self, data):\n",
    "        self.n_sent = 0\n",
    "        self.data = data\n",
    "        self.empty = False\n",
    "        agg_func = lambda s: [(w, t) for w, t in zip(s[\"word\"].values.tolist(),s[\"tag\"].values.tolist())]\n",
    "        self.grouped = self.data.groupby(\"sent_index\").apply(agg_func)\n",
    "        self.sentences = [s for s in self.grouped]\n",
    "    \n",
    "    def get_next(self):\n",
    "#         try:\n",
    "        s = self.grouped[int(\"{}\".format(self.n_sent))]\n",
    "        self.n_sent += 1\n",
    "        return s\n",
    "#         except:\n",
    "#             return None"
   ]
  },
  {
   "cell_type": "code",
   "execution_count": 8,
   "metadata": {},
   "outputs": [],
   "source": [
    "#data[data['sent_index']==1]"
   ]
  },
  {
   "cell_type": "code",
   "execution_count": 9,
   "metadata": {},
   "outputs": [],
   "source": [
    "getter = SentenceGetter(data)"
   ]
  },
  {
   "cell_type": "code",
   "execution_count": 10,
   "metadata": {},
   "outputs": [
    {
     "name": "stdout",
     "output_type": "stream",
     "text": [
      "[('ભારતીય', 'B-LOC'), ('ગણરાજ્ય', 'O'), ('એ', 'O'), ('અનેક', 'O'), ('સાંસ્કૃતિક', 'O'), ('વિવિધતાઓ', 'O'), ('ધરાવતો', 'O'), ('દક્ષિણ', 'O'), ('એશિયા', 'B-LOC'), ('સ્થિત', 'O'), ('દુનિયાનો', 'O'), ('સૌથી', 'O'), ('મોટું', 'O'), ('લોકશાહી', 'O'), ('તંત્ર', 'O'), ('ધરાવતો', 'O'), ('દેશ', 'O'), ('છે', 'O')]\n"
     ]
    }
   ],
   "source": [
    "print(getter.get_next())"
   ]
  },
  {
   "cell_type": "code",
   "execution_count": 11,
   "metadata": {},
   "outputs": [],
   "source": [
    "sentences = getter.sentences"
   ]
  },
  {
   "cell_type": "code",
   "execution_count": 13,
   "metadata": {},
   "outputs": [
    {
     "name": "stdout",
     "output_type": "stream",
     "text": [
      "Maximum sequence length: 82\n"
     ]
    }
   ],
   "source": [
    "MAX_LEN  = max([len(s) for s in sentences])\n",
    "print ('Maximum sequence length:', MAX_LEN)"
   ]
  },
  {
   "cell_type": "code",
   "execution_count": null,
   "metadata": {},
   "outputs": [],
   "source": []
  },
  {
   "cell_type": "code",
   "execution_count": 14,
   "metadata": {},
   "outputs": [],
   "source": [
    "word2idx = {w: i + 1 for i, w in enumerate(words)}\n",
    "tag2idx = {t: i for i, t in enumerate(tags)}"
   ]
  },
  {
   "cell_type": "code",
   "execution_count": 15,
   "metadata": {},
   "outputs": [
    {
     "data": {
      "text/plain": [
       "array([[5195, 3523, 2748, ..., 6565, 6565, 6565],\n",
       "       [ 479, 4804, 4410, ..., 6565, 6565, 6565],\n",
       "       [ 479, 4804, 4410, ..., 6565, 6565, 6565],\n",
       "       ...,\n",
       "       [3864, 1126, 4447, ..., 6565, 6565, 6565],\n",
       "       [6102, 2760, 1419, ..., 6565, 6565, 6565],\n",
       "       [5218, 6500, 1692, ..., 6565, 6565, 6565]])"
      ]
     },
     "execution_count": 15,
     "metadata": {},
     "output_type": "execute_result"
    }
   ],
   "source": [
    "X = [[word2idx[w[0]] for w in s] for s in sentences]\n",
    "X = pad_sequences(maxlen=MAX_LEN , sequences=X, padding=\"post\", value=n_words-1)\n",
    "X"
   ]
  },
  {
   "cell_type": "code",
   "execution_count": 16,
   "metadata": {},
   "outputs": [],
   "source": [
    "y = [[tag2idx[w[1]] for w in s] for s in sentences]\n",
    "y = pad_sequences(maxlen=MAX_LEN , sequences=y, padding=\"post\", value=tag2idx[\"O\"])\n"
   ]
  },
  {
   "cell_type": "code",
   "execution_count": 17,
   "metadata": {},
   "outputs": [],
   "source": [
    "from keras.utils import to_categorical\n",
    "y = [to_categorical(i, num_classes=n_tags) for i in y]\n",
    "from sklearn.model_selection import train_test_split\n",
    "X_tr, X_te, y_tr, y_te = train_test_split(X, y, test_size=0.1)"
   ]
  },
  {
   "cell_type": "markdown",
   "metadata": {},
   "source": [
    "# Setup the CRF-LSTM"
   ]
  },
  {
   "cell_type": "code",
   "execution_count": 18,
   "metadata": {},
   "outputs": [],
   "source": [
    "from keras.models import Model, Input\n",
    "from keras.layers import LSTM, Embedding, Dense, TimeDistributed, Dropout, Bidirectional\n",
    "from keras_contrib.layers import CRF\n",
    "import keras as k"
   ]
  },
  {
   "cell_type": "code",
   "execution_count": 20,
   "metadata": {},
   "outputs": [
    {
     "name": "stdout",
     "output_type": "stream",
     "text": [
      "_________________________________________________________________\n",
      "Layer (type)                 Output Shape              Param #   \n",
      "=================================================================\n",
      "input_2 (InputLayer)         (None, 82)                0         \n",
      "_________________________________________________________________\n",
      "embedding_2 (Embedding)      (None, 82, 20)            131360    \n",
      "_________________________________________________________________\n",
      "bidirectional_2 (Bidirection (None, 82, 100)           28400     \n",
      "_________________________________________________________________\n",
      "time_distributed_2 (TimeDist (None, 82, 50)            5050      \n",
      "_________________________________________________________________\n",
      "crf_2 (CRF)                  (None, 82, 7)             420       \n",
      "=================================================================\n",
      "Total params: 165,230\n",
      "Trainable params: 165,230\n",
      "Non-trainable params: 0\n",
      "_________________________________________________________________\n"
     ]
    }
   ],
   "source": [
    "\n",
    "# Model definition\n",
    "input = Input(shape=(MAX_LEN,))\n",
    "model = Embedding(input_dim=n_words+2, output_dim=EMBEDDING, # n_words + 2 (PAD & UNK)\n",
    "                  input_length=MAX_LEN, mask_zero=True)(input)  # default: 20-dim embedding\n",
    "model = Bidirectional(LSTM(units=50, return_sequences=True,\n",
    "                           recurrent_dropout=0.1))(model)  # variational biLSTM\n",
    "model = TimeDistributed(Dense(50, activation=\"relu\"))(model)  # a dense layer as suggested by neuralNer\n",
    "crf = CRF(n_tags)  # CRF layer, n_tags+1(PAD)\n",
    "out = crf(model)  # output\n",
    "model = Model(input, out)\n",
    "model.compile(optimizer=\"rmsprop\", loss=crf.loss_function, metrics=[crf.accuracy])\n",
    "model.summary()"
   ]
  },
  {
   "cell_type": "code",
   "execution_count": 25,
   "metadata": {},
   "outputs": [
    {
     "name": "stdout",
     "output_type": "stream",
     "text": [
      "WARNING:tensorflow:From C:\\Users\\sagun\\anaconda3\\envs\\Capstone1\\lib\\site-packages\\keras\\backend\\tensorflow_backend.py:986: The name tf.assign_add is deprecated. Please use tf.compat.v1.assign_add instead.\n",
      "\n",
      "Train on 2785 samples, validate on 310 samples\n",
      "Epoch 1/5\n",
      " - 16s - loss: 0.2676 - crf_viterbi_accuracy: 0.9171 - val_loss: 0.1361 - val_crf_viterbi_accuracy: 0.9543\n",
      "Epoch 2/5\n",
      " - 13s - loss: 0.1225 - crf_viterbi_accuracy: 0.9595 - val_loss: 0.0804 - val_crf_viterbi_accuracy: 0.9760\n",
      "Epoch 3/5\n",
      " - 12s - loss: 0.0683 - crf_viterbi_accuracy: 0.9802 - val_loss: 0.0521 - val_crf_viterbi_accuracy: 0.9848\n",
      "Epoch 4/5\n",
      " - 18s - loss: 0.0420 - crf_viterbi_accuracy: 0.9861 - val_loss: 0.0374 - val_crf_viterbi_accuracy: 0.9870\n",
      "Epoch 5/5\n",
      " - 14s - loss: 0.0288 - crf_viterbi_accuracy: 0.9898 - val_loss: 0.0321 - val_crf_viterbi_accuracy: 0.9904\n"
     ]
    }
   ],
   "source": [
    "history = model.fit(X_tr, np.array(y_tr), batch_size=BATCH_SIZE,epochs=EPOCHS,validation_split=0.1, verbose=2)"
   ]
  },
  {
   "cell_type": "code",
   "execution_count": 26,
   "metadata": {},
   "outputs": [],
   "source": [
    "model.save('bi_lstm_crf_gujarati.h5')"
   ]
  },
  {
   "cell_type": "code",
   "execution_count": 28,
   "metadata": {},
   "outputs": [
    {
     "name": "stdout",
     "output_type": "stream",
     "text": [
      "Word           (True ): Pred\n",
      "Maharishi     : B-LOC\n",
      "મીમાંસા       : I-LOC\n",
      "શેઢી          : B-LOC\n",
      "રમતમાંથી      : O\n",
      "પુરુષોમાંના   : B-LOC\n",
      "ફેલાયેલું     : O\n",
      "આયર્લેન્ડ     : O\n",
      "great         : O\n",
      "ફેલાયેલું     : O\n",
      "આયર્લેન્ડ     : O\n",
      "લોમ્બાર્ડી    : O\n",
      "મડાગાસ્કરનો   : O\n",
      "બહારની        : O\n",
      "આપે           : O\n",
      "દેશભક્તિ      : O\n",
      "અંતર          : O\n",
      "જ્યોતિર્લીંગો : O\n",
      "ગણગણતો        : O\n",
      "વાંસવાડા      : O\n",
      "સેમિટિક       : O\n",
      "પાછળ          : B-LOC\n",
      "સમય           : I-LOC\n",
      "આયર્લેન્ડ     : O\n",
      "કાયમીપણે      : O\n",
      "ટાઇગર         : O\n",
      "સાહિત્ય       : O\n",
      "મુળી          : O\n",
      "સપ્ટેમ્બરનો   : O\n",
      "કિર્સ્ટન      : O\n",
      "મીમાંસા       : I-LOC\n",
      "કર્નલ         : O\n",
      "શાસિત         : O\n",
      "શાસિત         : O\n",
      "શાસિત         : O\n",
      "શાસિત         : O\n",
      "શાસિત         : O\n",
      "શાસિત         : O\n",
      "શાસિત         : O\n",
      "શાસિત         : O\n",
      "શાસિત         : O\n",
      "શાસિત         : O\n",
      "શાસિત         : O\n",
      "શાસિત         : O\n",
      "શાસિત         : O\n",
      "શાસિત         : O\n",
      "શાસિત         : O\n",
      "શાસિત         : O\n",
      "શાસિત         : O\n",
      "શાસિત         : O\n",
      "શાસિત         : O\n",
      "શાસિત         : O\n",
      "શાસિત         : O\n",
      "શાસિત         : O\n",
      "શાસિત         : O\n",
      "શાસિત         : O\n",
      "શાસિત         : O\n",
      "શાસિત         : O\n",
      "શાસિત         : O\n",
      "શાસિત         : O\n",
      "શાસિત         : O\n",
      "શાસિત         : O\n",
      "શાસિત         : O\n",
      "શાસિત         : O\n",
      "શાસિત         : O\n",
      "શાસિત         : O\n",
      "શાસિત         : O\n",
      "શાસિત         : O\n",
      "શાસિત         : O\n",
      "શાસિત         : O\n",
      "શાસિત         : O\n",
      "શાસિત         : O\n",
      "શાસિત         : O\n",
      "શાસિત         : O\n",
      "શાસિત         : O\n",
      "શાસિત         : O\n",
      "શાસિત         : O\n",
      "શાસિત         : O\n",
      "શાસિત         : O\n",
      "શાસિત         : O\n",
      "શાસિત         : O\n",
      "શાસિત         : O\n",
      "શાસિત         : O\n"
     ]
    }
   ],
   "source": [
    "i = 3\n",
    "p = model.predict(np.array([X_te[i]]))\n",
    "p = np.argmax(p, axis=-1)\n",
    "print(\"{:14} ({:5}): {}\".format(\"Word\", \"True\", \"Pred\"))\n",
    "for w,pred in zip(X_te[i],p[0]):\n",
    "    print(\"{:14}: {}\".format(words[w],tags[pred]))"
   ]
  },
  {
   "cell_type": "code",
   "execution_count": 29,
   "metadata": {},
   "outputs": [],
   "source": [
    "\n",
    "from tqdm import tqdm\n"
   ]
  },
  {
   "cell_type": "code",
   "execution_count": 30,
   "metadata": {},
   "outputs": [
    {
     "name": "stderr",
     "output_type": "stream",
     "text": [
      "100%|██████████| 344/344 [00:05<00:00, 61.65it/s]\n"
     ]
    }
   ],
   "source": [
    "pred = []\n",
    "for i in tqdm(range(len(y_te))):\n",
    "    p = model.predict(np.array([X_te[i]]))\n",
    "    p = np.argmax(p, axis=-1)\n",
    "    pred.append(p)"
   ]
  },
  {
   "cell_type": "code",
   "execution_count": 31,
   "metadata": {},
   "outputs": [],
   "source": [
    "pred_temp = [x[0] for x in pred]\n",
    "\n",
    "y_temp = []\n",
    "\n",
    "for i in range(len(y_te)):\n",
    "    y_temp.append(np.array([np.where(y_te[i][j]==1)[0][0] for j in range(len(y_te[i]))]))"
   ]
  },
  {
   "cell_type": "code",
   "execution_count": 32,
   "metadata": {},
   "outputs": [],
   "source": [
    "actual = y_temp[0]\n",
    "for i in range(1, len(y_temp)):\n",
    "    actual = np.concatenate((actual, y_temp[i]), axis=None)"
   ]
  },
  {
   "cell_type": "code",
   "execution_count": 33,
   "metadata": {},
   "outputs": [],
   "source": [
    "predicted = pred_temp[0]\n",
    "for i in range(1, len(pred_temp)):\n",
    "    predicted = np.concatenate((predicted, pred_temp[i]), axis=None)"
   ]
  },
  {
   "cell_type": "code",
   "execution_count": 34,
   "metadata": {},
   "outputs": [],
   "source": [
    "import scikitplot as skplt\n",
    "from sklearn.metrics import classification_report"
   ]
  },
  {
   "cell_type": "code",
   "execution_count": 35,
   "metadata": {},
   "outputs": [
    {
     "name": "stderr",
     "output_type": "stream",
     "text": [
      "C:\\Users\\sagun\\anaconda3\\envs\\Capstone1\\lib\\site-packages\\sklearn\\metrics\\_classification.py:1221: UndefinedMetricWarning: Precision and F-score are ill-defined and being set to 0.0 in labels with no predicted samples. Use `zero_division` parameter to control this behavior.\n",
      "  _warn_prf(average, modifier, msg_start, len(result))\n"
     ]
    },
    {
     "name": "stdout",
     "output_type": "stream",
     "text": [
      "              precision    recall  f1-score   support\n",
      "\n",
      "           O       1.00      1.00      1.00     26797\n",
      "       B-ORG       0.40      0.81      0.53        89\n",
      "       B-PER       0.30      0.40      0.34        65\n",
      "       I-LOC       0.99      0.94      0.97       424\n",
      "       I-PER       0.00      0.00      0.00        82\n",
      "       I-ORG       0.55      0.27      0.36        82\n",
      "       B-LOC       0.94      0.92      0.93       669\n",
      "\n",
      "    accuracy                           0.99     28208\n",
      "   macro avg       0.60      0.62      0.59     28208\n",
      "weighted avg       0.99      0.99      0.99     28208\n",
      "\n"
     ]
    },
    {
     "data": {
      "image/png": "[encoded data removed]",
      "text/plain": [
       "<Figure size 432x288 with 2 Axes>"
      ]
     },
     "metadata": {
      "needs_background": "light"
     },
     "output_type": "display_data"
    }
   ],
   "source": [
    "skplt.metrics.plot_confusion_matrix(actual, predicted)\n",
    "print(classification_report(actual, predicted, target_names=tags))"
   ]
  },
  {
   "cell_type": "code",
   "execution_count": null,
   "metadata": {},
   "outputs": [],
   "source": []
  },
  {
   "cell_type": "code",
   "execution_count": null,
   "metadata": {},
   "outputs": [],
   "source": []
  },
  {
   "cell_type": "code",
   "execution_count": null,
   "metadata": {},
   "outputs": [],
   "source": []
  }
 ],
 "metadata": {
  "kernelspec": {
   "display_name": "Python 3",
   "language": "python",
   "name": "python3"
  },
  "language_info": {
   "codemirror_mode": {
    "name": "ipython",
    "version": 3
   },
   "file_extension": ".py",
   "mimetype": "text/x-python",
   "name": "python",
   "nbconvert_exporter": "python",
   "pygments_lexer": "ipython3",
   "version": "3.8.5"
  }
 },
 "nbformat": 4,
 "nbformat_minor": 4
}
