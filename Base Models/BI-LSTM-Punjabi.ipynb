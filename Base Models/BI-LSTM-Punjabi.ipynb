{
 "cells": [
  {
   "cell_type": "code",
   "execution_count": 1,
   "metadata": {},
   "outputs": [],
   "source": [
    "import numpy as np\n",
    "import seaborn as sns\n",
    "import matplotlib.pyplot as plt\n",
    "%matplotlib inline\n",
    "import pandas as pd\n",
    "import regex as re"
   ]
  },
  {
   "cell_type": "code",
   "execution_count": 2,
   "metadata": {},
   "outputs": [
    {
     "name": "stdout",
     "output_type": "stream",
     "text": [
      "   sent_index    word    tag\n",
      "0           0  ਸੰਯੁਕਤ  B-LOC\n",
      "1           0  ਰਾਸ਼ਟਰ      O\n",
      "2           0      ਦੀ  I-LOC\n",
      "3           0  ਸਥਾਪਨਾ      O\n",
      "4           0      24      O\n"
     ]
    }
   ],
   "source": [
    "df = pd.read_excel (r'punjabi_modelDataset.xlsx', sheet_name='Sheet1')\n",
    "print(df.head())"
   ]
  },
  {
   "cell_type": "code",
   "execution_count": 3,
   "metadata": {},
   "outputs": [],
   "source": [
    "df.drop(df[df['word'].str.match(r'[A-Za-z0-9]\\w+') == True].index, inplace = True)"
   ]
  },
  {
   "cell_type": "code",
   "execution_count": 4,
   "metadata": {},
   "outputs": [
    {
     "data": {
      "text/plain": [
       "51085"
      ]
     },
     "execution_count": 4,
     "metadata": {},
     "output_type": "execute_result"
    }
   ],
   "source": [
    "len(df)"
   ]
  },
  {
   "cell_type": "code",
   "execution_count": 5,
   "metadata": {},
   "outputs": [],
   "source": [
    "def delete_russianchar():\n",
    "    char_loc = [re.findall(r'\\p{IsCyrillic}', str(x)) for x in df['word']]\n",
    "    idx=0\n",
    "    char_index = []\n",
    "    for item in char_loc:\n",
    "        if len(item) is not 0:\n",
    "            char_index.append(idx)\n",
    "        idx=idx+1\n",
    "    \n",
    "    #print(df.iloc[char_index])\n",
    "    df.drop(df.index[char_index], inplace = True)\n",
    "    print(len(df))"
   ]
  },
  {
   "cell_type": "code",
   "execution_count": 6,
   "metadata": {},
   "outputs": [
    {
     "name": "stdout",
     "output_type": "stream",
     "text": [
      "51053\n"
     ]
    }
   ],
   "source": [
    "delete_russianchar()"
   ]
  },
  {
   "cell_type": "code",
   "execution_count": 7,
   "metadata": {},
   "outputs": [],
   "source": [
    "class SentenceGetter(object):\n",
    "    \n",
    "    def __init__(self, dataset):\n",
    "        self.n_sent = 1\n",
    "        self.dataset = dataset\n",
    "        self.empty = False\n",
    "        agg_func = lambda s: [(w, t) for w,t in zip(s[\"word\"].values.tolist(),\n",
    "                                                        s[\"tag\"].values.tolist())]\n",
    "        self.grouped = self.dataset.groupby(\"sent_index\").apply(agg_func)\n",
    "        self.sentences = [s for s in self.grouped]"
   ]
  },
  {
   "cell_type": "code",
   "execution_count": 8,
   "metadata": {},
   "outputs": [],
   "source": [
    "getter = SentenceGetter(df)"
   ]
  },
  {
   "cell_type": "code",
   "execution_count": 9,
   "metadata": {},
   "outputs": [],
   "source": [
    "sentences = getter.sentences"
   ]
  },
  {
   "cell_type": "code",
   "execution_count": 10,
   "metadata": {},
   "outputs": [
    {
     "name": "stdout",
     "output_type": "stream",
     "text": [
      "[('ਦਾਦਰਾ', 'O'), ('ਅਤੇ', 'I-ORG'), ('ਨਗਰ', 'I-LOC'), ('ਹਵੇਲੀ', 'I-LOC'), ('ਭਾਰਤ', 'I-ORG'), ('ਦੇ', 'I-ORG'), ('7', 'B-LOC'), ('ਕੇਂਦਰੀ', 'O'), ('ਸ਼ਾਸ਼ਤ', 'O'), ('ਪ੍ਰਦੇਸਾਂ', 'O'), ('ਵਿੱਚੋਂ', 'O'), ('ਇੱਕ', 'O'), ('ਹੈ', 'O'), ('।', 'O')]\n"
     ]
    }
   ],
   "source": [
    "print(sentences[10])"
   ]
  },
  {
   "cell_type": "code",
   "execution_count": 11,
   "metadata": {},
   "outputs": [
    {
     "name": "stdout",
     "output_type": "stream",
     "text": [
      "Maximum sequence length: 573\n"
     ]
    }
   ],
   "source": [
    "maxlen = max([len(s) for s in sentences])\n",
    "print ('Maximum sequence length:', maxlen)"
   ]
  },
  {
   "cell_type": "code",
   "execution_count": 12,
   "metadata": {},
   "outputs": [
    {
     "data": {
      "image/png": "[encoded data removed]",
      "text/plain": [
       "<Figure size 432x288 with 1 Axes>"
      ]
     },
     "metadata": {
      "needs_background": "light"
     },
     "output_type": "display_data"
    }
   ],
   "source": [
    "plt.hist([len(s) for s in sentences], bins=50)\n",
    "plt.show()"
   ]
  },
  {
   "cell_type": "code",
   "execution_count": 13,
   "metadata": {},
   "outputs": [
    {
     "data": {
      "text/plain": [
       "7061"
      ]
     },
     "execution_count": 13,
     "metadata": {},
     "output_type": "execute_result"
    }
   ],
   "source": [
    "words = list(set(df[\"word\"].values))\n",
    "words.append(\"end_padding\")\n",
    "n_words = len(words)\n",
    "n_words"
   ]
  },
  {
   "cell_type": "code",
   "execution_count": 14,
   "metadata": {},
   "outputs": [
    {
     "data": {
      "text/plain": [
       "7"
      ]
     },
     "execution_count": 14,
     "metadata": {},
     "output_type": "execute_result"
    }
   ],
   "source": [
    "tags = list(set(df[\"tag\"].values))\n",
    "n_tags = len(tags)\n",
    "n_tags"
   ]
  },
  {
   "cell_type": "code",
   "execution_count": 15,
   "metadata": {},
   "outputs": [],
   "source": [
    "word2idx = {w: i for i, w in enumerate(words)}\n",
    "tag2idx = {t: i for i, t in enumerate(tags)}"
   ]
  },
  {
   "cell_type": "code",
   "execution_count": 16,
   "metadata": {},
   "outputs": [
    {
     "name": "stdout",
     "output_type": "stream",
     "text": [
      "<class 'dict'>\n"
     ]
    }
   ],
   "source": [
    "print(type(word2idx))"
   ]
  },
  {
   "cell_type": "code",
   "execution_count": 17,
   "metadata": {},
   "outputs": [
    {
     "name": "stdout",
     "output_type": "stream",
     "text": [
      "[('ਗੋਦਾਵਰੀ', 0), ('ਅਲੀਬਾਬਾ', 1), ('ਕਰਣ', 2), ('ਉੱਘੇ', 3), ('ਕਿਰਤ', 4)]\n"
     ]
    }
   ],
   "source": [
    "dict_items = word2idx.items()\n",
    "first_5 = list(dict_items)[:5]\n",
    "print(first_5)"
   ]
  },
  {
   "cell_type": "code",
   "execution_count": 18,
   "metadata": {},
   "outputs": [
    {
     "name": "stderr",
     "output_type": "stream",
     "text": [
      "Using TensorFlow backend.\n"
     ]
    }
   ],
   "source": [
    "from keras.preprocessing.sequence import pad_sequences\n",
    "X = [[word2idx[w[0]] for w in s] for s in sentences]"
   ]
  },
  {
   "cell_type": "code",
   "execution_count": 19,
   "metadata": {},
   "outputs": [],
   "source": [
    "X = pad_sequences(maxlen=150, sequences=X, padding=\"post\",value=n_words - 1)"
   ]
  },
  {
   "cell_type": "code",
   "execution_count": 20,
   "metadata": {},
   "outputs": [],
   "source": [
    "y = [[tag2idx[w[1]] for w in s] for s in sentences]\n",
    "y = pad_sequences(maxlen=150, sequences=y, padding=\"post\", value=tag2idx[\"O\"])"
   ]
  },
  {
   "cell_type": "code",
   "execution_count": 21,
   "metadata": {},
   "outputs": [],
   "source": [
    "from keras.utils import to_categorical\n",
    "y = [to_categorical(i, num_classes=n_tags) for i in y]"
   ]
  },
  {
   "cell_type": "code",
   "execution_count": 22,
   "metadata": {},
   "outputs": [],
   "source": [
    "from sklearn.model_selection import train_test_split\n",
    "X_train, X_test, y_train, y_test = train_test_split(X, y, test_size=0.2)"
   ]
  },
  {
   "cell_type": "code",
   "execution_count": 23,
   "metadata": {},
   "outputs": [],
   "source": [
    "from keras.models import Model, Input\n",
    "from keras.layers import LSTM, Embedding, Dense, TimeDistributed, Dropout, Bidirectional"
   ]
  },
  {
   "cell_type": "code",
   "execution_count": 24,
   "metadata": {},
   "outputs": [],
   "source": [
    "input = Input(shape=(150,))\n",
    "model = Embedding(input_dim=n_words, output_dim=150, input_length=150)(input)\n",
    "model = Dropout(0.1)(model)\n",
    "model = Bidirectional(LSTM(units=150, return_sequences=True, recurrent_dropout=0.1))(model)\n",
    "out = TimeDistributed(Dense(n_tags, activation=\"softmax\"))(model)"
   ]
  },
  {
   "cell_type": "code",
   "execution_count": 25,
   "metadata": {},
   "outputs": [],
   "source": [
    "model = Model(input, out)\n",
    "model.compile(optimizer=\"adam\", loss=\"categorical_crossentropy\", metrics=[\"accuracy\"])"
   ]
  },
  {
   "cell_type": "code",
   "execution_count": 26,
   "metadata": {},
   "outputs": [
    {
     "name": "stderr",
     "output_type": "stream",
     "text": [
      "C:\\Users\\rosha\\AppData\\Roaming\\Python\\Python37\\site-packages\\tensorflow_core\\python\\framework\\indexed_slices.py:433: UserWarning: Converting sparse IndexedSlices to a dense Tensor of unknown shape. This may consume a large amount of memory.\n",
      "  \"Converting sparse IndexedSlices to a dense Tensor of unknown shape. \"\n"
     ]
    },
    {
     "name": "stdout",
     "output_type": "stream",
     "text": [
      "Train on 1911 samples, validate on 478 samples\n",
      "Epoch 1/10\n",
      "1911/1911 [==============================] - 36s 19ms/step - loss: 0.3041 - accuracy: 0.9433 - val_loss: 0.1400 - val_accuracy: 0.9588\n",
      "Epoch 2/10\n",
      "1911/1911 [==============================] - 41s 22ms/step - loss: 0.1294 - accuracy: 0.9595 - val_loss: 0.1222 - val_accuracy: 0.9588\n",
      "Epoch 3/10\n",
      "1911/1911 [==============================] - 35s 18ms/step - loss: 0.1079 - accuracy: 0.9632 - val_loss: 0.0925 - val_accuracy: 0.9699\n",
      "Epoch 4/10\n",
      "1911/1911 [==============================] - 26s 14ms/step - loss: 0.0736 - accuracy: 0.9759 - val_loss: 0.0601 - val_accuracy: 0.9843\n",
      "Epoch 5/10\n",
      "1911/1911 [==============================] - 28s 15ms/step - loss: 0.0454 - accuracy: 0.9882 - val_loss: 0.0390 - val_accuracy: 0.9913\n",
      "Epoch 6/10\n",
      "1911/1911 [==============================] - 27s 14ms/step - loss: 0.0271 - accuracy: 0.9938 - val_loss: 0.0255 - val_accuracy: 0.9937\n",
      "Epoch 7/10\n",
      "1911/1911 [==============================] - 27s 14ms/step - loss: 0.0160 - accuracy: 0.9972 - val_loss: 0.0173 - val_accuracy: 0.9969\n",
      "Epoch 8/10\n",
      "1911/1911 [==============================] - 26s 14ms/step - loss: 0.0096 - accuracy: 0.9988 - val_loss: 0.0130 - val_accuracy: 0.9979\n",
      "Epoch 9/10\n",
      "1911/1911 [==============================] - 27s 14ms/step - loss: 0.0059 - accuracy: 0.9994 - val_loss: 0.0104 - val_accuracy: 0.9982\n",
      "Epoch 10/10\n",
      "1911/1911 [==============================] - 27s 14ms/step - loss: 0.0038 - accuracy: 0.9998 - val_loss: 0.0086 - val_accuracy: 0.9983\n"
     ]
    }
   ],
   "source": [
    "history = model.fit(X_train, np.array(y_train), batch_size=32, epochs=10, validation_split=0.2, verbose=1)"
   ]
  },
  {
   "cell_type": "code",
   "execution_count": 27,
   "metadata": {},
   "outputs": [
    {
     "name": "stdout",
     "output_type": "stream",
     "text": [
      "Word           (True ): Pred\n",
      "ਜਲਗਾਹਾਂ       : O\n",
      "ਜ਼ਮੀਨੀ        : O\n",
      "ਅਤੇ           : I-ORG\n",
      "ਜਲ            : O\n",
      "ਪ੍ਰਣਾਲੀਆਂ     : O\n",
      "ਵਿਚਕਾਰ        : O\n",
      "ਉਹ            : O\n",
      "ਜਗ੍ਹਾ         : O\n",
      "ਹਨ            : O\n",
      "ਜਿੱਥੇ         : O\n",
      "ਪਾਣੀ          : O\n",
      "ਦਾ            : O\n",
      "ਪੱਧਰ          : O\n",
      "ਧਰਤੀ          : O\n",
      "ਦੀ            : I-LOC\n",
      "ਸਤ੍ਹਾ         : O\n",
      "ਦੇ            : I-ORG\n",
      "ਨੇੜੇ          : O\n",
      "ਹੁੰਦਾ         : O\n",
      "ਹੈ            : O\n",
      "ਜਾਂ           : O\n",
      "ਪਾਣੀ          : O\n",
      "ਘੱਟ           : B-ORG\n",
      "ਡੂੰਘਾ         : O\n",
      "ਹੁੰਦਾ         : O\n",
      "ਹੈ            : O\n",
      "।             : O\n",
      "end_padding   : O\n",
      "end_padding   : O\n",
      "end_padding   : O\n",
      "end_padding   : O\n",
      "end_padding   : O\n",
      "end_padding   : O\n",
      "end_padding   : O\n",
      "end_padding   : O\n",
      "end_padding   : O\n",
      "end_padding   : O\n",
      "end_padding   : O\n",
      "end_padding   : O\n",
      "end_padding   : O\n",
      "end_padding   : O\n",
      "end_padding   : O\n",
      "end_padding   : O\n",
      "end_padding   : O\n",
      "end_padding   : O\n",
      "end_padding   : O\n",
      "end_padding   : O\n",
      "end_padding   : O\n",
      "end_padding   : O\n",
      "end_padding   : O\n",
      "end_padding   : O\n",
      "end_padding   : O\n",
      "end_padding   : O\n",
      "end_padding   : O\n",
      "end_padding   : O\n",
      "end_padding   : O\n",
      "end_padding   : O\n",
      "end_padding   : O\n",
      "end_padding   : O\n",
      "end_padding   : O\n",
      "end_padding   : O\n",
      "end_padding   : O\n",
      "end_padding   : O\n",
      "end_padding   : O\n",
      "end_padding   : O\n",
      "end_padding   : O\n",
      "end_padding   : O\n",
      "end_padding   : O\n",
      "end_padding   : O\n",
      "end_padding   : O\n",
      "end_padding   : O\n",
      "end_padding   : O\n",
      "end_padding   : O\n",
      "end_padding   : O\n",
      "end_padding   : O\n",
      "end_padding   : O\n",
      "end_padding   : O\n",
      "end_padding   : O\n",
      "end_padding   : O\n",
      "end_padding   : O\n",
      "end_padding   : O\n",
      "end_padding   : O\n",
      "end_padding   : O\n",
      "end_padding   : O\n",
      "end_padding   : O\n",
      "end_padding   : O\n",
      "end_padding   : O\n",
      "end_padding   : O\n",
      "end_padding   : O\n",
      "end_padding   : O\n",
      "end_padding   : O\n",
      "end_padding   : O\n",
      "end_padding   : O\n",
      "end_padding   : O\n",
      "end_padding   : O\n",
      "end_padding   : O\n",
      "end_padding   : O\n",
      "end_padding   : O\n",
      "end_padding   : O\n",
      "end_padding   : O\n",
      "end_padding   : O\n",
      "end_padding   : O\n",
      "end_padding   : O\n",
      "end_padding   : O\n",
      "end_padding   : O\n",
      "end_padding   : O\n",
      "end_padding   : O\n",
      "end_padding   : O\n",
      "end_padding   : O\n",
      "end_padding   : O\n",
      "end_padding   : O\n",
      "end_padding   : O\n",
      "end_padding   : O\n",
      "end_padding   : O\n",
      "end_padding   : O\n",
      "end_padding   : O\n",
      "end_padding   : O\n",
      "end_padding   : O\n",
      "end_padding   : O\n",
      "end_padding   : O\n",
      "end_padding   : O\n",
      "end_padding   : O\n",
      "end_padding   : O\n",
      "end_padding   : O\n",
      "end_padding   : O\n",
      "end_padding   : O\n",
      "end_padding   : O\n",
      "end_padding   : O\n",
      "end_padding   : O\n",
      "end_padding   : O\n",
      "end_padding   : O\n",
      "end_padding   : O\n",
      "end_padding   : O\n",
      "end_padding   : O\n",
      "end_padding   : O\n",
      "end_padding   : O\n",
      "end_padding   : O\n",
      "end_padding   : O\n",
      "end_padding   : O\n",
      "end_padding   : O\n",
      "end_padding   : O\n",
      "end_padding   : O\n",
      "end_padding   : O\n",
      "end_padding   : O\n",
      "end_padding   : O\n",
      "end_padding   : O\n",
      "end_padding   : O\n",
      "end_padding   : O\n",
      "end_padding   : O\n",
      "end_padding   : O\n"
     ]
    }
   ],
   "source": [
    "i = 0\n",
    "p = model.predict(np.array([X_test[i]]))\n",
    "p = np.argmax(p, axis=-1)\n",
    "print(\"{:14} ({:5}): {}\".format(\"Word\", \"True\", \"Pred\"))\n",
    "for w,pred in zip(X_test[i],p[0]):\n",
    "    print(\"{:14}: {}\".format(words[w],tags[pred]))"
   ]
  },
  {
   "cell_type": "code",
   "execution_count": 28,
   "metadata": {},
   "outputs": [],
   "source": [
    "pred = []\n",
    "for i in range(len(y_test)):\n",
    "    p = model.predict(np.array([X_test[i]]))\n",
    "    p = np.argmax(p, axis=-1)\n",
    "    pred.append(p)"
   ]
  },
  {
   "cell_type": "code",
   "execution_count": 29,
   "metadata": {},
   "outputs": [],
   "source": [
    "pred_temp = [x[0] for x in pred]\n",
    "y_temp = []"
   ]
  },
  {
   "cell_type": "code",
   "execution_count": 30,
   "metadata": {},
   "outputs": [],
   "source": [
    "for i in range(len(y_test)):\n",
    "    y_temp.append(np.array([np.where(y_test[i][j]==1)[0][0] for j in range(len(y_test[i]))]))"
   ]
  },
  {
   "cell_type": "code",
   "execution_count": 31,
   "metadata": {},
   "outputs": [],
   "source": [
    "actual = y_temp[0]\n",
    "for i in range(1, len(y_temp)):\n",
    "    actual = np.concatenate((actual, y_temp[i]), axis=None)"
   ]
  },
  {
   "cell_type": "code",
   "execution_count": 32,
   "metadata": {},
   "outputs": [],
   "source": [
    "predicted = pred_temp[0]\n",
    "for i in range(1, len(pred_temp)):\n",
    "    predicted = np.concatenate((predicted, pred_temp[i]), axis=None)"
   ]
  },
  {
   "cell_type": "code",
   "execution_count": 33,
   "metadata": {},
   "outputs": [
    {
     "name": "stdout",
     "output_type": "stream",
     "text": [
      "\n",
      "Confusion Matrix and Classification Report\n",
      "\n",
      " AxesSubplot(0.125,0.125;0.62x0.755)\n",
      "\n",
      "               precision    recall  f1-score   support\n",
      "\n",
      "       B-LOC       1.00      0.94      0.97       496\n",
      "       B-ORG       0.96      0.91      0.93       215\n",
      "       B-PER       0.89      0.78      0.83       233\n",
      "       I-PER       1.00      0.96      0.98       727\n",
      "       I-ORG       1.00      0.98      0.99      1374\n",
      "           O       1.00      1.00      1.00     86097\n",
      "       I-LOC       1.00      0.97      0.98       558\n",
      "\n",
      "    accuracy                           1.00     89700\n",
      "   macro avg       0.98      0.93      0.96     89700\n",
      "weighted avg       1.00      1.00      1.00     89700\n",
      "\n"
     ]
    },
    {
     "data": {
      "image/png": "[encoded data removed]",
      "text/plain": [
       "<Figure size 432x288 with 2 Axes>"
      ]
     },
     "metadata": {
      "needs_background": "light"
     },
     "output_type": "display_data"
    }
   ],
   "source": [
    "from sklearn.metrics import classification_report, confusion_matrix\n",
    "import scikitplot as skplt\n",
    "print('\\nConfusion Matrix and Classification Report')\n",
    "print('\\n', skplt.metrics.plot_confusion_matrix(actual, predicted))\n",
    "print('\\n', classification_report(actual, predicted, target_names=tags))"
   ]
  },
  {
   "cell_type": "code",
   "execution_count": 34,
   "metadata": {},
   "outputs": [],
   "source": [
    "import pickle\n",
    "pkl_filename = \"punjabi_ner_model.pkl\"\n",
    "with open(pkl_filename, 'wb') as file:\n",
    "    pickle.dump(model, file)"
   ]
  },
  {
   "cell_type": "code",
   "execution_count": 35,
   "metadata": {},
   "outputs": [
    {
     "name": "stderr",
     "output_type": "stream",
     "text": [
      "C:\\Users\\rosha\\AppData\\Roaming\\Python\\Python37\\site-packages\\tensorflow_core\\python\\framework\\indexed_slices.py:433: UserWarning: Converting sparse IndexedSlices to a dense Tensor of unknown shape. This may consume a large amount of memory.\n",
      "  \"Converting sparse IndexedSlices to a dense Tensor of unknown shape. \"\n"
     ]
    }
   ],
   "source": [
    "with open(pkl_filename, 'rb') as file:\n",
    "    pickle_model = pickle.load(file)"
   ]
  },
  {
   "cell_type": "code",
   "execution_count": null,
   "metadata": {},
   "outputs": [],
   "source": []
  },
  {
   "cell_type": "code",
   "execution_count": null,
   "metadata": {},
   "outputs": [],
   "source": []
  }
 ],
 "metadata": {
  "kernelspec": {
   "display_name": "Python 3",
   "language": "python",
   "name": "python3"
  },
  "language_info": {
   "codemirror_mode": {
    "name": "ipython",
    "version": 3
   },
   "file_extension": ".py",
   "mimetype": "text/x-python",
   "name": "python",
   "nbconvert_exporter": "python",
   "pygments_lexer": "ipython3",
   "version": "3.8.5"
  }
 },
 "nbformat": 4,
 "nbformat_minor": 4
}
