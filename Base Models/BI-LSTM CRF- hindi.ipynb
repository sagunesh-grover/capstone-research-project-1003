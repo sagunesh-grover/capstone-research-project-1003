{
 "cells": [
  {
   "cell_type": "code",
   "execution_count": 145,
   "metadata": {},
   "outputs": [],
   "source": [
    "import pandas as pd\n",
    "import numpy as np\n",
    "import re\n",
    "import string\n",
    "from keras.preprocessing.sequence import pad_sequences\n",
    "import tensorflow as tf\n",
    "import keras"
   ]
  },
  {
   "cell_type": "code",
   "execution_count": 146,
   "metadata": {},
   "outputs": [],
   "source": [
    "# Hyperparams if GPU is available\n",
    "if tf.test.is_gpu_available():\n",
    "    BATCH_SIZE = 512  # Number of examples used in each iteration\n",
    "    EPOCHS = 5  # Number of passes through entire dataset\n",
    "    #MAX_LEN = 75  # Max length of review (in words)\n",
    "    EMBEDDING = 40  # Dimension of word embedding vector\n",
    "# Hyperparams for CPU training\n",
    "else:\n",
    "    BATCH_SIZE = 32\n",
    "    EPOCHS = 5\n",
    "    #MAX_LEN = 75\n",
    "    EMBEDDING = 20"
   ]
  },
  {
   "cell_type": "code",
   "execution_count": 147,
   "metadata": {},
   "outputs": [
    {
     "data": {
      "text/html": [
       "<div>\n",
       "<style scoped>\n",
       "    .dataframe tbody tr th:only-of-type {\n",
       "        vertical-align: middle;\n",
       "    }\n",
       "\n",
       "    .dataframe tbody tr th {\n",
       "        vertical-align: top;\n",
       "    }\n",
       "\n",
       "    .dataframe thead th {\n",
       "        text-align: right;\n",
       "    }\n",
       "</style>\n",
       "<table border=\"1\" class=\"dataframe\">\n",
       "  <thead>\n",
       "    <tr style=\"text-align: right;\">\n",
       "      <th></th>\n",
       "      <th>sent_index</th>\n",
       "      <th>word</th>\n",
       "      <th>tag</th>\n",
       "    </tr>\n",
       "  </thead>\n",
       "  <tbody>\n",
       "    <tr>\n",
       "      <th>0</th>\n",
       "      <td>0</td>\n",
       "      <td>जापान</td>\n",
       "      <td>B-LOC</td>\n",
       "    </tr>\n",
       "    <tr>\n",
       "      <th>1</th>\n",
       "      <td>0</td>\n",
       "      <td>एशिया</td>\n",
       "      <td>B-LOC</td>\n",
       "    </tr>\n",
       "    <tr>\n",
       "      <th>2</th>\n",
       "      <td>0</td>\n",
       "      <td>महाद्वीप</td>\n",
       "      <td>I-LOC</td>\n",
       "    </tr>\n",
       "    <tr>\n",
       "      <th>3</th>\n",
       "      <td>0</td>\n",
       "      <td>में</td>\n",
       "      <td>O</td>\n",
       "    </tr>\n",
       "    <tr>\n",
       "      <th>4</th>\n",
       "      <td>0</td>\n",
       "      <td>स्थित</td>\n",
       "      <td>O</td>\n",
       "    </tr>\n",
       "  </tbody>\n",
       "</table>\n",
       "</div>"
      ],
      "text/plain": [
       "   sent_index      word    tag\n",
       "0           0     जापान  B-LOC\n",
       "1           0     एशिया  B-LOC\n",
       "2           0  महाद्वीप  I-LOC\n",
       "3           0       में      O\n",
       "4           0     स्थित      O"
      ]
     },
     "execution_count": 147,
     "metadata": {},
     "output_type": "execute_result"
    }
   ],
   "source": [
    "df = pd.read_excel (r'hindi_modelDataset.xlsx', sheet_name='Sheet1')\n",
    "df.head(5)"
   ]
  },
  {
   "cell_type": "code",
   "execution_count": 148,
   "metadata": {},
   "outputs": [],
   "source": [
    "data = df.copy()"
   ]
  },
  {
   "cell_type": "code",
   "execution_count": 149,
   "metadata": {},
   "outputs": [
    {
     "data": {
      "text/plain": [
       "17286"
      ]
     },
     "execution_count": 149,
     "metadata": {},
     "output_type": "execute_result"
    }
   ],
   "source": [
    "words = list(set(data[\"word\"].values))\n",
    "#words.append(\"ENDPAD\")\n",
    "n_words = len(words); \n",
    "n_words"
   ]
  },
  {
   "cell_type": "code",
   "execution_count": 150,
   "metadata": {},
   "outputs": [
    {
     "data": {
      "text/plain": [
       "7"
      ]
     },
     "execution_count": 150,
     "metadata": {},
     "output_type": "execute_result"
    }
   ],
   "source": [
    "tags = list(set(data[\"tag\"].values))\n",
    "n_tags = len(tags); n_tags"
   ]
  },
  {
   "cell_type": "code",
   "execution_count": 151,
   "metadata": {},
   "outputs": [],
   "source": [
    "class SentenceGetter(object):\n",
    "    \n",
    "    def __init__(self, data):\n",
    "        self.n_sent = 0\n",
    "        self.data = data\n",
    "        self.empty = False\n",
    "        agg_func = lambda s: [(w, t) for w, t in zip(s[\"word\"].values.tolist(),s[\"tag\"].values.tolist())]\n",
    "        self.grouped = self.data.groupby(\"sent_index\").apply(agg_func)\n",
    "        self.sentences = [s for s in self.grouped]\n",
    "    \n",
    "    def get_next(self):\n",
    "#         try:\n",
    "        s = self.grouped[int(\"{}\".format(self.n_sent))]\n",
    "        self.n_sent += 1\n",
    "        return s\n",
    "#         except:\n",
    "#             return None"
   ]
  },
  {
   "cell_type": "code",
   "execution_count": 152,
   "metadata": {},
   "outputs": [],
   "source": [
    "#data[data['sent_index']==1]"
   ]
  },
  {
   "cell_type": "code",
   "execution_count": 153,
   "metadata": {},
   "outputs": [],
   "source": [
    "getter = SentenceGetter(data)"
   ]
  },
  {
   "cell_type": "code",
   "execution_count": 154,
   "metadata": {},
   "outputs": [
    {
     "name": "stdout",
     "output_type": "stream",
     "text": [
      "[('जापान', 'B-LOC'), ('एशिया', 'B-LOC'), ('महाद्वीप', 'I-LOC'), ('में', 'O'), ('स्थित', 'O'), ('देश', 'O'), ('है', 'O'), ('।', 'O')]\n"
     ]
    }
   ],
   "source": [
    "print(getter.get_next())"
   ]
  },
  {
   "cell_type": "code",
   "execution_count": 155,
   "metadata": {},
   "outputs": [],
   "source": [
    "sentences = getter.sentences"
   ]
  },
  {
   "cell_type": "code",
   "execution_count": 158,
   "metadata": {},
   "outputs": [
    {
     "name": "stdout",
     "output_type": "stream",
     "text": [
      "Maximum sequence length: 348\n"
     ]
    }
   ],
   "source": [
    "MAX_LEN  = max([len(s) for s in sentences])\n",
    "print ('Maximum sequence length:', MAX_LEN)"
   ]
  },
  {
   "cell_type": "code",
   "execution_count": 159,
   "metadata": {},
   "outputs": [],
   "source": [
    "word2idx = {w: i + 1 for i, w in enumerate(words)}\n",
    "tag2idx = {t: i for i, t in enumerate(tags)}"
   ]
  },
  {
   "cell_type": "code",
   "execution_count": 160,
   "metadata": {},
   "outputs": [
    {
     "data": {
      "text/plain": [
       "array([[11555,  3814,  5651, ..., 17285, 17285, 17285],\n",
       "       [ 8312, 13318,  4238, ..., 17285, 17285, 17285],\n",
       "       [14385,  5204,  2060, ..., 17285, 17285, 17285],\n",
       "       ...,\n",
       "       [ 9278,   186, 10762, ..., 17285, 17285, 17285],\n",
       "       [  321, 10054, 13698, ..., 17285, 17285, 17285],\n",
       "       [13189,  8495, 11985, ..., 17285, 17285, 17285]])"
      ]
     },
     "execution_count": 160,
     "metadata": {},
     "output_type": "execute_result"
    }
   ],
   "source": [
    "X = [[word2idx[w[0]] for w in s] for s in sentences]\n",
    "X = pad_sequences(maxlen=MAX_LEN , sequences=X, padding=\"post\", value=n_words-1)\n",
    "X"
   ]
  },
  {
   "cell_type": "code",
   "execution_count": 161,
   "metadata": {},
   "outputs": [],
   "source": [
    "y = [[tag2idx[w[1]] for w in s] for s in sentences]\n",
    "y = pad_sequences(maxlen=MAX_LEN , sequences=y, padding=\"post\", value=tag2idx[\"O\"])\n"
   ]
  },
  {
   "cell_type": "code",
   "execution_count": 162,
   "metadata": {},
   "outputs": [],
   "source": [
    "from keras.utils import to_categorical\n",
    "y = [to_categorical(i, num_classes=n_tags) for i in y]\n",
    "from sklearn.model_selection import train_test_split\n",
    "X_tr, X_te, y_tr, y_te = train_test_split(X, y, test_size=0.1)"
   ]
  },
  {
   "cell_type": "markdown",
   "metadata": {},
   "source": [
    "# Setup the CRF-LSTM"
   ]
  },
  {
   "cell_type": "code",
   "execution_count": 163,
   "metadata": {},
   "outputs": [],
   "source": [
    "from keras.models import Model, Input\n",
    "from keras.layers import LSTM, Embedding, Dense, TimeDistributed, Dropout, Bidirectional\n",
    "from keras_contrib.layers import CRF\n",
    "import keras as k"
   ]
  },
  {
   "cell_type": "code",
   "execution_count": 164,
   "metadata": {},
   "outputs": [
    {
     "name": "stderr",
     "output_type": "stream",
     "text": [
      "C:\\Users\\sagun\\anaconda3\\envs\\Capstone1\\lib\\site-packages\\keras_contrib-2.0.8-py3.7.egg\\keras_contrib\\layers\\crf.py:346: UserWarning: CRF.loss_function is deprecated and it might be removed in the future. Please use losses.crf_loss instead.\n",
      "C:\\Users\\sagun\\anaconda3\\envs\\Capstone1\\lib\\site-packages\\keras_contrib-2.0.8-py3.7.egg\\keras_contrib\\layers\\crf.py:353: UserWarning: CRF.accuracy is deprecated and it might be removed in the future. Please use metrics.crf_accuracy\n"
     ]
    },
    {
     "name": "stdout",
     "output_type": "stream",
     "text": [
      "_________________________________________________________________\n",
      "Layer (type)                 Output Shape              Param #   \n",
      "=================================================================\n",
      "input_7 (InputLayer)         (None, 348)               0         \n",
      "_________________________________________________________________\n",
      "embedding_7 (Embedding)      (None, 348, 20)           345760    \n",
      "_________________________________________________________________\n",
      "bidirectional_4 (Bidirection (None, 348, 100)          28400     \n",
      "_________________________________________________________________\n",
      "time_distributed_4 (TimeDist (None, 348, 50)           5050      \n",
      "_________________________________________________________________\n",
      "crf_4 (CRF)                  (None, 348, 7)            420       \n",
      "=================================================================\n",
      "Total params: 379,630\n",
      "Trainable params: 379,630\n",
      "Non-trainable params: 0\n",
      "_________________________________________________________________\n"
     ]
    }
   ],
   "source": [
    "\n",
    "# Model definition\n",
    "input = Input(shape=(MAX_LEN,))\n",
    "model = Embedding(input_dim=n_words+2, output_dim=EMBEDDING, # n_words + 2 (PAD & UNK)\n",
    "                  input_length=MAX_LEN, mask_zero=True)(input)  # default: 20-dim embedding\n",
    "model = Bidirectional(LSTM(units=50, return_sequences=True,\n",
    "                           recurrent_dropout=0.1))(model)  # variational biLSTM\n",
    "model = TimeDistributed(Dense(50, activation=\"relu\"))(model)  # a dense layer as suggested by neuralNer\n",
    "crf = CRF(n_tags)  # CRF layer, n_tags+1(PAD)\n",
    "out = crf(model)  # output\n",
    "model = Model(input, out)\n",
    "model.compile(optimizer=\"rmsprop\", loss=crf.loss_function, metrics=[crf.accuracy])\n",
    "model.summary()"
   ]
  },
  {
   "cell_type": "code",
   "execution_count": 169,
   "metadata": {},
   "outputs": [
    {
     "name": "stdout",
     "output_type": "stream",
     "text": [
      "Train on 8845 samples, validate on 983 samples\n",
      "Epoch 1/5\n",
      " - 129s - loss: 0.0904 - crf_viterbi_accuracy: 0.9673 - val_loss: 0.0298 - val_crf_viterbi_accuracy: 0.9894\n",
      "Epoch 2/5\n",
      " - 138s - loss: 0.0217 - crf_viterbi_accuracy: 0.9924 - val_loss: 0.0171 - val_crf_viterbi_accuracy: 0.9940\n",
      "Epoch 3/5\n",
      " - 136s - loss: 0.0115 - crf_viterbi_accuracy: 0.9961 - val_loss: 0.0125 - val_crf_viterbi_accuracy: 0.9959\n",
      "Epoch 4/5\n",
      " - 136s - loss: 0.0060 - crf_viterbi_accuracy: 0.9982 - val_loss: 0.0118 - val_crf_viterbi_accuracy: 0.9963\n",
      "Epoch 5/5\n",
      " - 135s - loss: 0.0030 - crf_viterbi_accuracy: 0.9992 - val_loss: 0.0086 - val_crf_viterbi_accuracy: 0.9979\n"
     ]
    }
   ],
   "source": [
    "history = model.fit(X_tr, np.array(y_tr), batch_size=BATCH_SIZE,epochs=EPOCHS,validation_split=0.1, verbose=2)"
   ]
  },
  {
   "cell_type": "code",
   "execution_count": 170,
   "metadata": {},
   "outputs": [],
   "source": [
    "model.save('bi_lstm_crf_hindi.h5')"
   ]
  },
  {
   "cell_type": "code",
   "execution_count": 172,
   "metadata": {},
   "outputs": [
    {
     "name": "stdout",
     "output_type": "stream",
     "text": [
      "Word           (True ): Pred\n",
      "गांधारी       : O\n",
      "पूर्णिया      : I-PER\n",
      "एड्स          : I-ORG\n",
      "मॉन्ट्रियल    : I-ORG\n",
      "यदु           : O\n",
      "ग्रुब्स       : O\n",
      "फ़्रांका      : I-ORG\n",
      "डेयर          : I-ORG\n",
      "आंकिक         : O\n",
      "सुशीला        : I-ORG\n",
      "खूबसूरत       : O\n",
      "अग्रदूत       : O\n",
      "ग्रुब्स       : O\n",
      "कथाओं         : I-LOC\n",
      "बंधन          : B-LOC\n",
      "जिज़ान        : I-ORG\n",
      "निश्चल        : I-PER\n",
      "लगाते         : O\n",
      "विश्वविद्यालयों: I-ORG\n",
      "सेनेटर        : O\n",
      "९२            : O\n",
      "खूबसूरत       : O\n",
      "गांधीवादी     : O\n",
      "कैसर          : O\n",
      "कैसर          : O\n",
      "कैसर          : O\n",
      "कैसर          : O\n",
      "कैसर          : O\n",
      "कैसर          : O\n",
      "कैसर          : O\n",
      "कैसर          : O\n",
      "कैसर          : O\n",
      "कैसर          : O\n",
      "कैसर          : O\n",
      "कैसर          : O\n",
      "कैसर          : O\n",
      "कैसर          : O\n",
      "कैसर          : O\n",
      "कैसर          : O\n",
      "कैसर          : O\n",
      "कैसर          : O\n",
      "कैसर          : O\n",
      "कैसर          : O\n",
      "कैसर          : O\n",
      "कैसर          : O\n",
      "कैसर          : O\n",
      "कैसर          : O\n",
      "कैसर          : O\n",
      "कैसर          : O\n",
      "कैसर          : O\n",
      "कैसर          : O\n",
      "कैसर          : O\n",
      "कैसर          : O\n",
      "कैसर          : O\n",
      "कैसर          : O\n",
      "कैसर          : O\n",
      "कैसर          : O\n",
      "कैसर          : O\n",
      "कैसर          : O\n",
      "कैसर          : O\n",
      "कैसर          : O\n",
      "कैसर          : O\n",
      "कैसर          : O\n",
      "कैसर          : O\n",
      "कैसर          : O\n",
      "कैसर          : O\n",
      "कैसर          : O\n",
      "कैसर          : O\n",
      "कैसर          : O\n",
      "कैसर          : O\n",
      "कैसर          : O\n",
      "कैसर          : O\n",
      "कैसर          : O\n",
      "कैसर          : O\n",
      "कैसर          : O\n",
      "कैसर          : O\n",
      "कैसर          : O\n",
      "कैसर          : O\n",
      "कैसर          : O\n",
      "कैसर          : O\n",
      "कैसर          : O\n",
      "कैसर          : O\n",
      "कैसर          : O\n",
      "कैसर          : O\n",
      "कैसर          : O\n",
      "कैसर          : O\n",
      "कैसर          : O\n",
      "कैसर          : O\n",
      "कैसर          : O\n",
      "कैसर          : O\n",
      "कैसर          : O\n",
      "कैसर          : O\n",
      "कैसर          : O\n",
      "कैसर          : O\n",
      "कैसर          : O\n",
      "कैसर          : O\n",
      "कैसर          : O\n",
      "कैसर          : O\n",
      "कैसर          : O\n",
      "कैसर          : O\n",
      "कैसर          : O\n",
      "कैसर          : O\n",
      "कैसर          : O\n",
      "कैसर          : O\n",
      "कैसर          : O\n",
      "कैसर          : O\n",
      "कैसर          : O\n",
      "कैसर          : O\n",
      "कैसर          : O\n",
      "कैसर          : O\n",
      "कैसर          : O\n",
      "कैसर          : O\n",
      "कैसर          : O\n",
      "कैसर          : O\n",
      "कैसर          : O\n",
      "कैसर          : O\n",
      "कैसर          : O\n",
      "कैसर          : O\n",
      "कैसर          : O\n",
      "कैसर          : O\n",
      "कैसर          : O\n",
      "कैसर          : O\n",
      "कैसर          : O\n",
      "कैसर          : O\n",
      "कैसर          : O\n",
      "कैसर          : O\n",
      "कैसर          : O\n",
      "कैसर          : O\n",
      "कैसर          : O\n",
      "कैसर          : O\n",
      "कैसर          : O\n",
      "कैसर          : O\n",
      "कैसर          : O\n",
      "कैसर          : O\n",
      "कैसर          : O\n",
      "कैसर          : O\n",
      "कैसर          : O\n",
      "कैसर          : O\n",
      "कैसर          : O\n",
      "कैसर          : O\n",
      "कैसर          : O\n",
      "कैसर          : O\n",
      "कैसर          : O\n",
      "कैसर          : O\n",
      "कैसर          : O\n",
      "कैसर          : O\n",
      "कैसर          : O\n",
      "कैसर          : O\n",
      "कैसर          : O\n",
      "कैसर          : O\n",
      "कैसर          : O\n",
      "कैसर          : O\n",
      "कैसर          : O\n",
      "कैसर          : O\n",
      "कैसर          : O\n",
      "कैसर          : O\n",
      "कैसर          : O\n",
      "कैसर          : O\n",
      "कैसर          : O\n",
      "कैसर          : O\n",
      "कैसर          : O\n",
      "कैसर          : O\n",
      "कैसर          : O\n",
      "कैसर          : O\n",
      "कैसर          : O\n",
      "कैसर          : O\n",
      "कैसर          : O\n",
      "कैसर          : O\n",
      "कैसर          : O\n",
      "कैसर          : O\n",
      "कैसर          : O\n",
      "कैसर          : O\n",
      "कैसर          : O\n",
      "कैसर          : O\n",
      "कैसर          : O\n",
      "कैसर          : O\n",
      "कैसर          : O\n",
      "कैसर          : O\n",
      "कैसर          : O\n",
      "कैसर          : O\n",
      "कैसर          : O\n",
      "कैसर          : O\n",
      "कैसर          : O\n",
      "कैसर          : O\n",
      "कैसर          : O\n",
      "कैसर          : O\n",
      "कैसर          : O\n",
      "कैसर          : O\n",
      "कैसर          : O\n",
      "कैसर          : O\n",
      "कैसर          : O\n",
      "कैसर          : O\n",
      "कैसर          : O\n",
      "कैसर          : O\n",
      "कैसर          : O\n",
      "कैसर          : O\n",
      "कैसर          : O\n",
      "कैसर          : O\n",
      "कैसर          : O\n",
      "कैसर          : O\n",
      "कैसर          : O\n",
      "कैसर          : O\n",
      "कैसर          : O\n",
      "कैसर          : O\n",
      "कैसर          : O\n",
      "कैसर          : O\n",
      "कैसर          : O\n",
      "कैसर          : O\n",
      "कैसर          : O\n",
      "कैसर          : O\n",
      "कैसर          : O\n",
      "कैसर          : O\n",
      "कैसर          : O\n",
      "कैसर          : O\n",
      "कैसर          : O\n",
      "कैसर          : O\n",
      "कैसर          : O\n",
      "कैसर          : O\n",
      "कैसर          : O\n",
      "कैसर          : O\n",
      "कैसर          : O\n",
      "कैसर          : O\n",
      "कैसर          : O\n",
      "कैसर          : O\n",
      "कैसर          : O\n",
      "कैसर          : O\n",
      "कैसर          : O\n",
      "कैसर          : O\n",
      "कैसर          : O\n",
      "कैसर          : O\n",
      "कैसर          : O\n",
      "कैसर          : O\n",
      "कैसर          : O\n",
      "कैसर          : O\n",
      "कैसर          : O\n",
      "कैसर          : O\n",
      "कैसर          : O\n",
      "कैसर          : O\n",
      "कैसर          : O\n",
      "कैसर          : O\n",
      "कैसर          : O\n",
      "कैसर          : O\n",
      "कैसर          : O\n",
      "कैसर          : O\n",
      "कैसर          : O\n",
      "कैसर          : O\n",
      "कैसर          : O\n",
      "कैसर          : O\n",
      "कैसर          : O\n",
      "कैसर          : O\n",
      "कैसर          : O\n",
      "कैसर          : O\n",
      "कैसर          : O\n",
      "कैसर          : O\n",
      "कैसर          : O\n",
      "कैसर          : O\n",
      "कैसर          : O\n",
      "कैसर          : O\n",
      "कैसर          : O\n",
      "कैसर          : O\n",
      "कैसर          : O\n",
      "कैसर          : O\n",
      "कैसर          : O\n",
      "कैसर          : O\n",
      "कैसर          : O\n",
      "कैसर          : O\n",
      "कैसर          : O\n",
      "कैसर          : O\n",
      "कैसर          : O\n",
      "कैसर          : O\n",
      "कैसर          : O\n",
      "कैसर          : O\n",
      "कैसर          : O\n",
      "कैसर          : O\n",
      "कैसर          : O\n",
      "कैसर          : O\n",
      "कैसर          : O\n",
      "कैसर          : O\n",
      "कैसर          : O\n",
      "कैसर          : O\n",
      "कैसर          : O\n",
      "कैसर          : O\n",
      "कैसर          : O\n",
      "कैसर          : O\n",
      "कैसर          : O\n",
      "कैसर          : O\n",
      "कैसर          : O\n",
      "कैसर          : O\n",
      "कैसर          : O\n",
      "कैसर          : O\n",
      "कैसर          : O\n",
      "कैसर          : O\n",
      "कैसर          : O\n",
      "कैसर          : O\n",
      "कैसर          : O\n",
      "कैसर          : O\n",
      "कैसर          : O\n",
      "कैसर          : O\n",
      "कैसर          : O\n",
      "कैसर          : O\n",
      "कैसर          : O\n",
      "कैसर          : O\n",
      "कैसर          : O\n",
      "कैसर          : O\n",
      "कैसर          : O\n",
      "कैसर          : O\n",
      "कैसर          : O\n",
      "कैसर          : O\n",
      "कैसर          : O\n",
      "कैसर          : O\n",
      "कैसर          : O\n",
      "कैसर          : O\n",
      "कैसर          : O\n",
      "कैसर          : O\n",
      "कैसर          : O\n",
      "कैसर          : O\n",
      "कैसर          : O\n",
      "कैसर          : O\n",
      "कैसर          : O\n",
      "कैसर          : O\n",
      "कैसर          : O\n",
      "कैसर          : O\n",
      "कैसर          : O\n",
      "कैसर          : O\n",
      "कैसर          : O\n",
      "कैसर          : O\n",
      "कैसर          : O\n",
      "कैसर          : O\n",
      "कैसर          : O\n",
      "कैसर          : O\n",
      "कैसर          : O\n",
      "कैसर          : O\n",
      "कैसर          : O\n",
      "कैसर          : O\n",
      "कैसर          : O\n",
      "कैसर          : O\n",
      "कैसर          : O\n",
      "कैसर          : O\n",
      "कैसर          : O\n",
      "कैसर          : O\n",
      "कैसर          : O\n",
      "कैसर          : O\n",
      "कैसर          : O\n",
      "कैसर          : O\n",
      "कैसर          : O\n",
      "कैसर          : O\n",
      "कैसर          : O\n",
      "कैसर          : O\n"
     ]
    }
   ],
   "source": [
    "i = 3\n",
    "p = model.predict(np.array([X_te[i]]))\n",
    "p = np.argmax(p, axis=-1)\n",
    "print(\"{:14} ({:5}): {}\".format(\"Word\", \"True\", \"Pred\"))\n",
    "for w,pred in zip(X_te[i],p[0]):\n",
    "    print(\"{:14}: {}\".format(words[w],tags[pred]))"
   ]
  },
  {
   "cell_type": "code",
   "execution_count": 173,
   "metadata": {},
   "outputs": [],
   "source": [
    "\n",
    "from tqdm import tqdm\n"
   ]
  },
  {
   "cell_type": "code",
   "execution_count": 174,
   "metadata": {},
   "outputs": [
    {
     "name": "stderr",
     "output_type": "stream",
     "text": [
      "100%|██████████| 1093/1093 [01:20<00:00, 13.58it/s]\n"
     ]
    }
   ],
   "source": [
    "pred = []\n",
    "for i in tqdm(range(len(y_te))):\n",
    "    p = model.predict(np.array([X_te[i]]))\n",
    "    p = np.argmax(p, axis=-1)\n",
    "    pred.append(p)"
   ]
  },
  {
   "cell_type": "code",
   "execution_count": 175,
   "metadata": {},
   "outputs": [],
   "source": [
    "pred_temp = [x[0] for x in pred]\n",
    "\n",
    "y_temp = []\n",
    "\n",
    "for i in range(len(y_te)):\n",
    "    y_temp.append(np.array([np.where(y_te[i][j]==1)[0][0] for j in range(len(y_te[i]))]))"
   ]
  },
  {
   "cell_type": "code",
   "execution_count": 176,
   "metadata": {},
   "outputs": [],
   "source": [
    "actual = y_temp[0]\n",
    "for i in range(1, len(y_temp)):\n",
    "    actual = np.concatenate((actual, y_temp[i]), axis=None)"
   ]
  },
  {
   "cell_type": "code",
   "execution_count": 177,
   "metadata": {},
   "outputs": [],
   "source": [
    "predicted = pred_temp[0]\n",
    "for i in range(1, len(pred_temp)):\n",
    "    predicted = np.concatenate((predicted, pred_temp[i]), axis=None)"
   ]
  },
  {
   "cell_type": "code",
   "execution_count": 178,
   "metadata": {},
   "outputs": [],
   "source": [
    "import scikitplot as skplt\n",
    "from sklearn.metrics import classification_report"
   ]
  },
  {
   "cell_type": "code",
   "execution_count": 179,
   "metadata": {},
   "outputs": [
    {
     "name": "stdout",
     "output_type": "stream",
     "text": [
      "              precision    recall  f1-score   support\n",
      "\n",
      "       B-LOC       0.97      0.95      0.96       933\n",
      "       I-ORG       0.96      0.96      0.96      2217\n",
      "       B-PER       0.66      0.81      0.72       467\n",
      "       I-PER       0.97      0.94      0.95      1609\n",
      "       I-LOC       0.94      0.95      0.95       716\n",
      "           O       1.00      1.00      1.00    373754\n",
      "       B-ORG       0.65      0.94      0.77       668\n",
      "\n",
      "    accuracy                           1.00    380364\n",
      "   macro avg       0.88      0.94      0.90    380364\n",
      "weighted avg       1.00      1.00      1.00    380364\n",
      "\n"
     ]
    },
    {
     "data": {
      "image/png": "[encoded data removed]",
      "text/plain": [
       "<Figure size 432x288 with 2 Axes>"
      ]
     },
     "metadata": {
      "needs_background": "light"
     },
     "output_type": "display_data"
    }
   ],
   "source": [
    "skplt.metrics.plot_confusion_matrix(actual, predicted)\n",
    "print(classification_report(actual, predicted, target_names=tags))"
   ]
  },
  {
   "cell_type": "code",
   "execution_count": null,
   "metadata": {},
   "outputs": [],
   "source": []
  }
 ],
 "metadata": {
  "kernelspec": {
   "display_name": "Python 3",
   "language": "python",
   "name": "python3"
  },
  "language_info": {
   "codemirror_mode": {
    "name": "ipython",
    "version": 3
   },
   "file_extension": ".py",
   "mimetype": "text/x-python",
   "name": "python",
   "nbconvert_exporter": "python",
   "pygments_lexer": "ipython3",
   "version": "3.8.5"
  }
 },
 "nbformat": 4,
 "nbformat_minor": 4
}
